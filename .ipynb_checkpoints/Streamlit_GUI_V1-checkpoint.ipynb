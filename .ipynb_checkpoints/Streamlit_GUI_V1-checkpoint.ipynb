{
 "cells": [
  {
   "cell_type": "code",
   "execution_count": 1,
   "id": "be4512d1",
   "metadata": {},
   "outputs": [],
   "source": [
    "#pip install streamlit"
   ]
  },
  {
   "cell_type": "code",
   "execution_count": 2,
   "id": "10b9a3d8",
   "metadata": {},
   "outputs": [],
   "source": [
    "#pip install altair==4"
   ]
  },
  {
   "cell_type": "code",
   "execution_count": 3,
   "id": "8045b49c",
   "metadata": {},
   "outputs": [
    {
     "name": "stderr",
     "output_type": "stream",
     "text": [
      "2023-12-14 15:13:11.847 INFO    numexpr.utils: NumExpr defaulting to 4 threads.\n",
      "2023-12-14 15:13:23.028 \n",
      "  \u001b[33m\u001b[1mWarning:\u001b[0m to view this Streamlit app on a browser, run it with the following\n",
      "  command:\n",
      "\n",
      "    streamlit run C:\\Users\\Jagadeeshilpi\\anaconda3\\lib\\site-packages\\ipykernel_launcher.py [ARGUMENTS]\n"
     ]
    }
   ],
   "source": [
    "import streamlit as st\n",
    "import pandas as pd\n",
    "import pickle\n",
    "from sklearn.preprocessing import LabelEncoder\n",
    "\n",
    "# Load the pre-trained XGBoost model\n",
    "with open('xgb_model.pkl', 'rb') as model_file:\n",
    "    model = pickle.load(model_file)\n",
    "\n",
    "# Function to perform feature engineering\n",
    "def perform_feature_engineering(df):\n",
    "    # Drop unnecessary columns\n",
    "    df = df.drop(['seller', 'offerType', 'model', 'name', 'dateCrawled', 'lastSeen', 'dateCreated', 'postalCode'], axis=1)\n",
    "\n",
    "    # Creating dummies\n",
    "    df = pd.get_dummies(df, columns=['abtest','vehicleType', 'fuelType', 'gearbox', 'notRepairedDamage'], drop_first=True)\n",
    "\n",
    "    # Label encoding for the 'brand' column\n",
    "    label_encoder = LabelEncoder()\n",
    "    df['brand_encoded'] = label_encoder.fit_transform(df['brand'])\n",
    "\n",
    "    # Dropping brand column\n",
    "    df = df.drop('brand', axis=1)\n",
    "    \n",
    "    \n",
    "    # Convert 'yearOfRegistration' to numeric\n",
    "    df['yearOfRegistration'] = pd.to_numeric(df['yearOfRegistration'], errors='coerce')\n",
    "\n",
    "    # Calculate the age of the vehicle\n",
    "    df['yearOfRegistration'] = df['yearOfRegistration'].apply(lambda x: 2023 - x)\n",
    "\n",
    "    # Rename column name from 'yearOfRegistration' to 'YearsFromRegistration'\n",
    "    df.rename(columns={'YearsFromRegistration': 'yearOfRegistration'}, inplace=True)\n",
    "\n",
    "    # Convert 'yearOfRegistration' to numeric\n",
    "    df['monthOfRegistration'] = pd.to_numeric(df['monthOfRegistration'], errors='coerce')\n",
    "    \n",
    "    # Convert 'yearOfRegistration' to numeric\n",
    "    df['powerPS'] = pd.to_numeric(df['powerPS'], errors='coerce')\n",
    "    \n",
    "    # Convert 'yearOfRegistration' to numeric\n",
    "    df['kilometer'] = pd.to_numeric(df['kilometer'], errors='coerce')\n",
    "\n",
    "\n",
    "    # Perform binning for \"monthOfRegistration\" column\n",
    "    bins = [0, 3, 6, 9, 12]\n",
    "    labels = [\"Q1\", \"Q2\", \"Q3\", \"Q4\"]\n",
    "    df['monthOfRegistration'] = pd.cut(df['monthOfRegistration'], bins=bins, labels=labels)\n",
    "    df = pd.get_dummies(df, columns=['monthOfRegistration'], drop_first=True)\n",
    "\n",
    "    return df\n",
    "\n",
    "# Function to predict price\n",
    "def predict_price(features):\n",
    "    # Load the features into a DataFrame\n",
    "    input_data = pd.DataFrame(features, index=[0])\n",
    "\n",
    "    # Perform feature engineering\n",
    "    input_data = perform_feature_engineering(input_data)\n",
    "\n",
    "    # Predict the price using the pre-trained model\n",
    "    predicted_price = model.predict(input_data)\n",
    "\n",
    "    return predicted_price[0]\n",
    "\n",
    "# Streamlit app\n",
    "def main():\n",
    "    st.title(\"Car Price Prediction App\")\n",
    "\n",
    "    # Get user inputs\n",
    "    features = {}\n",
    "    for feature in ['dateCrawled', 'name', 'seller', 'offerType', 'abtest', 'vehicleType', 'yearOfRegistration',\n",
    "                    'gearbox', 'powerPS', 'model', 'kilometer', 'monthOfRegistration', 'fuelType', 'brand',\n",
    "                    'notRepairedDamage', 'dateCreated', 'postalCode', 'lastSeen']:\n",
    "        features[feature] = st.text_input(feature, '')\n",
    "\n",
    "    # Predict button\n",
    "    if st.button(\"Predict Price\"):\n",
    "        # Perform prediction\n",
    "        predicted_price = predict_price(features)\n",
    "\n",
    "        # Display the predicted price\n",
    "        st.success(f\"Predicted Price: {predicted_price:.2f} USD\")\n",
    "\n",
    "if __name__ == '__main__':\n",
    "    main()\n"
   ]
  },
  {
   "cell_type": "code",
   "execution_count": 4,
   "id": "102652da",
   "metadata": {},
   "outputs": [
    {
     "ename": "SyntaxError",
     "evalue": "invalid syntax (Temp/ipykernel_12520/3126652622.py, line 1)",
     "output_type": "error",
     "traceback": [
      "\u001b[1;36m  File \u001b[1;32m\"C:\\Users\\JAGADE~1\\AppData\\Local\\Temp/ipykernel_12520/3126652622.py\"\u001b[1;36m, line \u001b[1;32m1\u001b[0m\n\u001b[1;33m    streamlit run C:\\Users\\Jagadeeshilpi\\anaconda3\\lib\\site-packages\\ipykernel_launcher.py\u001b[0m\n\u001b[1;37m              ^\u001b[0m\n\u001b[1;31mSyntaxError\u001b[0m\u001b[1;31m:\u001b[0m invalid syntax\n"
     ]
    }
   ],
   "source": []
  },
  {
   "cell_type": "code",
   "execution_count": null,
   "id": "c2439df7",
   "metadata": {},
   "outputs": [],
   "source": []
  }
 ],
 "metadata": {
  "kernelspec": {
   "display_name": "Python 3 (ipykernel)",
   "language": "python",
   "name": "python3"
  },
  "language_info": {
   "codemirror_mode": {
    "name": "ipython",
    "version": 3
   },
   "file_extension": ".py",
   "mimetype": "text/x-python",
   "name": "python",
   "nbconvert_exporter": "python",
   "pygments_lexer": "ipython3",
   "version": "3.9.7"
  },
  "toc": {
   "base_numbering": 1,
   "nav_menu": {},
   "number_sections": true,
   "sideBar": true,
   "skip_h1_title": false,
   "title_cell": "Table of Contents",
   "title_sidebar": "Contents",
   "toc_cell": false,
   "toc_position": {},
   "toc_section_display": true,
   "toc_window_display": false
  }
 },
 "nbformat": 4,
 "nbformat_minor": 5
}
