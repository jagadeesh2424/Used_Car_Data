{
 "cells": [
  {
   "cell_type": "code",
   "execution_count": 2,
   "id": "1d9c4f26",
   "metadata": {},
   "outputs": [
    {
     "name": "stderr",
     "output_type": "stream",
     "text": [
      "WARNING: pip is being invoked by an old script wrapper. This will fail in a future version of pip.\n",
      "Please see https://github.com/pypa/pip/issues/5599 for advice on fixing the underlying issue.\n",
      "To avoid this problem you can invoke Python with '-m pip' instead of running pip directly.\n",
      "WARNING: Ignoring invalid distribution -yrsistent (c:\\users\\jagadeeshilpi\\anaconda3\\lib\\site-packages)\n",
      "WARNING: Ignoring invalid distribution -ffi (c:\\users\\jagadeeshilpi\\anaconda3\\lib\\site-packages)\n",
      "WARNING: Ignoring invalid distribution -yrsistent (c:\\users\\jagadeeshilpi\\anaconda3\\lib\\site-packages)\n",
      "WARNING: Ignoring invalid distribution -ffi (c:\\users\\jagadeeshilpi\\anaconda3\\lib\\site-packages)\n"
     ]
    },
    {
     "name": "stdout",
     "output_type": "stream",
     "text": [
      "Requirement already satisfied: msgpack in c:\\users\\jagadeeshilpi\\anaconda3\\lib\\site-packages (1.0.2)\n"
     ]
    },
    {
     "name": "stderr",
     "output_type": "stream",
     "text": [
      "WARNING: Ignoring invalid distribution -yrsistent (c:\\users\\jagadeeshilpi\\anaconda3\\lib\\site-packages)\n",
      "WARNING: Ignoring invalid distribution -ffi (c:\\users\\jagadeeshilpi\\anaconda3\\lib\\site-packages)\n",
      "WARNING: Ignoring invalid distribution -yrsistent (c:\\users\\jagadeeshilpi\\anaconda3\\lib\\site-packages)\n",
      "WARNING: Ignoring invalid distribution -ffi (c:\\users\\jagadeeshilpi\\anaconda3\\lib\\site-packages)\n",
      "WARNING: Ignoring invalid distribution -yrsistent (c:\\users\\jagadeeshilpi\\anaconda3\\lib\\site-packages)\n",
      "WARNING: Ignoring invalid distribution -ffi (c:\\users\\jagadeeshilpi\\anaconda3\\lib\\site-packages)\n",
      "WARNING: Ignoring invalid distribution -yrsistent (c:\\users\\jagadeeshilpi\\anaconda3\\lib\\site-packages)\n",
      "WARNING: Ignoring invalid distribution -ffi (c:\\users\\jagadeeshilpi\\anaconda3\\lib\\site-packages)\n",
      "WARNING: pip is being invoked by an old script wrapper. This will fail in a future version of pip.\n",
      "Please see https://github.com/pypa/pip/issues/5599 for advice on fixing the underlying issue.\n",
      "To avoid this problem you can invoke Python with '-m pip' instead of running pip directly.\n",
      "WARNING: Ignoring invalid distribution -yrsistent (c:\\users\\jagadeeshilpi\\anaconda3\\lib\\site-packages)\n",
      "WARNING: Ignoring invalid distribution -ffi (c:\\users\\jagadeeshilpi\\anaconda3\\lib\\site-packages)\n",
      "WARNING: Ignoring invalid distribution -yrsistent (c:\\users\\jagadeeshilpi\\anaconda3\\lib\\site-packages)\n",
      "WARNING: Ignoring invalid distribution -ffi (c:\\users\\jagadeeshilpi\\anaconda3\\lib\\site-packages)\n"
     ]
    },
    {
     "name": "stdout",
     "output_type": "stream",
     "text": [
      "Collecting pixiedust\n",
      "  Downloading pixiedust-1.1.19.tar.gz (197 kB)\n",
      "Collecting geojson\n",
      "  Downloading geojson-3.1.0-py3-none-any.whl (15 kB)\n",
      "Requirement already satisfied: astunparse in c:\\users\\jagadeeshilpi\\anaconda3\\lib\\site-packages (from pixiedust) (1.6.3)\n",
      "Requirement already satisfied: markdown in c:\\users\\jagadeeshilpi\\anaconda3\\lib\\site-packages (from pixiedust) (3.4.1)\n",
      "Collecting colour\n",
      "  Downloading colour-0.1.5-py2.py3-none-any.whl (23 kB)\n",
      "Requirement already satisfied: requests in c:\\users\\jagadeeshilpi\\anaconda3\\lib\\site-packages (from pixiedust) (2.26.0)\n",
      "Requirement already satisfied: matplotlib in c:\\users\\jagadeeshilpi\\anaconda3\\lib\\site-packages (from pixiedust) (3.4.3)\n",
      "Requirement already satisfied: pandas in c:\\users\\jagadeeshilpi\\anaconda3\\lib\\site-packages (from pixiedust) (1.3.4)\n",
      "Requirement already satisfied: wheel<1.0,>=0.23.0 in c:\\users\\jagadeeshilpi\\anaconda3\\lib\\site-packages (from astunparse->pixiedust) (0.37.0)\n",
      "Requirement already satisfied: six<2.0,>=1.6.1 in c:\\users\\jagadeeshilpi\\anaconda3\\lib\\site-packages (from astunparse->pixiedust) (1.16.0)\n",
      "Requirement already satisfied: importlib-metadata>=4.4 in c:\\users\\jagadeeshilpi\\anaconda3\\lib\\site-packages (from markdown->pixiedust) (4.8.1)\n",
      "Requirement already satisfied: zipp>=0.5 in c:\\users\\jagadeeshilpi\\anaconda3\\lib\\site-packages (from importlib-metadata>=4.4->markdown->pixiedust) (3.6.0)\n",
      "Requirement already satisfied: kiwisolver>=1.0.1 in c:\\users\\jagadeeshilpi\\anaconda3\\lib\\site-packages (from matplotlib->pixiedust) (1.3.1)\n",
      "Requirement already satisfied: cycler>=0.10 in c:\\users\\jagadeeshilpi\\anaconda3\\lib\\site-packages (from matplotlib->pixiedust) (0.10.0)\n",
      "Requirement already satisfied: python-dateutil>=2.7 in c:\\users\\jagadeeshilpi\\anaconda3\\lib\\site-packages (from matplotlib->pixiedust) (2.8.2)\n",
      "Requirement already satisfied: pyparsing>=2.2.1 in c:\\users\\jagadeeshilpi\\anaconda3\\lib\\site-packages (from matplotlib->pixiedust) (3.0.6)\n",
      "Requirement already satisfied: pillow>=6.2.0 in c:\\users\\jagadeeshilpi\\anaconda3\\lib\\site-packages (from matplotlib->pixiedust) (8.4.0)\n",
      "Requirement already satisfied: numpy>=1.16 in c:\\users\\jagadeeshilpi\\anaconda3\\lib\\site-packages (from matplotlib->pixiedust) (1.20.3)\n",
      "Requirement already satisfied: pytz>=2017.3 in c:\\users\\jagadeeshilpi\\anaconda3\\lib\\site-packages (from pandas->pixiedust) (2021.3)\n",
      "Requirement already satisfied: idna<4,>=2.5 in c:\\users\\jagadeeshilpi\\anaconda3\\lib\\site-packages (from requests->pixiedust) (3.2)\n",
      "Requirement already satisfied: urllib3<1.27,>=1.21.1 in c:\\users\\jagadeeshilpi\\anaconda3\\lib\\site-packages (from requests->pixiedust) (1.26.7)\n",
      "Requirement already satisfied: certifi>=2017.4.17 in c:\\users\\jagadeeshilpi\\anaconda3\\lib\\site-packages (from requests->pixiedust) (2021.10.8)\n",
      "Requirement already satisfied: charset-normalizer~=2.0.0 in c:\\users\\jagadeeshilpi\\anaconda3\\lib\\site-packages (from requests->pixiedust) (2.0.4)\n",
      "Building wheels for collected packages: pixiedust\n",
      "  Building wheel for pixiedust (setup.py): started\n",
      "  Building wheel for pixiedust (setup.py): finished with status 'done'\n",
      "  Created wheel for pixiedust: filename=pixiedust-1.1.19-py3-none-any.whl size=321804 sha256=6a19b12a3c8c61d6dd85a5486750605bd50461a9c94c0f21a1815c41b14d1558\n",
      "  Stored in directory: c:\\users\\jagadeeshilpi\\appdata\\local\\pip\\cache\\wheels\\77\\d4\\e1\\a85b6f570da64ab83b7a9d9ac0353f6d0592c60a31099208c7\n",
      "Successfully built pixiedust\n"
     ]
    },
    {
     "name": "stderr",
     "output_type": "stream",
     "text": [
      "WARNING: Ignoring invalid distribution -yrsistent (c:\\users\\jagadeeshilpi\\anaconda3\\lib\\site-packages)\n",
      "WARNING: Ignoring invalid distribution -ffi (c:\\users\\jagadeeshilpi\\anaconda3\\lib\\site-packages)\n"
     ]
    },
    {
     "name": "stdout",
     "output_type": "stream",
     "text": [
      "Installing collected packages: geojson, colour, pixiedust\n"
     ]
    },
    {
     "name": "stderr",
     "output_type": "stream",
     "text": [
      "WARNING: Ignoring invalid distribution -yrsistent (c:\\users\\jagadeeshilpi\\anaconda3\\lib\\site-packages)\n",
      "WARNING: Ignoring invalid distribution -ffi (c:\\users\\jagadeeshilpi\\anaconda3\\lib\\site-packages)\n",
      "WARNING: Ignoring invalid distribution -yrsistent (c:\\users\\jagadeeshilpi\\anaconda3\\lib\\site-packages)\n",
      "WARNING: Ignoring invalid distribution -ffi (c:\\users\\jagadeeshilpi\\anaconda3\\lib\\site-packages)\n",
      "WARNING: Ignoring invalid distribution -yrsistent (c:\\users\\jagadeeshilpi\\anaconda3\\lib\\site-packages)\n",
      "WARNING: Ignoring invalid distribution -ffi (c:\\users\\jagadeeshilpi\\anaconda3\\lib\\site-packages)\n"
     ]
    },
    {
     "name": "stdout",
     "output_type": "stream",
     "text": [
      "Successfully installed colour-0.1.5 geojson-3.1.0 pixiedust-1.1.19\n"
     ]
    },
    {
     "name": "stderr",
     "output_type": "stream",
     "text": [
      "WARNING: Ignoring invalid distribution -yrsistent (c:\\users\\jagadeeshilpi\\anaconda3\\lib\\site-packages)\n",
      "WARNING: Ignoring invalid distribution -ffi (c:\\users\\jagadeeshilpi\\anaconda3\\lib\\site-packages)\n",
      "WARNING: Ignoring invalid distribution -yrsistent (c:\\users\\jagadeeshilpi\\anaconda3\\lib\\site-packages)\n",
      "WARNING: Ignoring invalid distribution -ffi (c:\\users\\jagadeeshilpi\\anaconda3\\lib\\site-packages)\n",
      "WARNING: Ignoring invalid distribution -yrsistent (c:\\users\\jagadeeshilpi\\anaconda3\\lib\\site-packages)\n",
      "WARNING: Ignoring invalid distribution -ffi (c:\\users\\jagadeeshilpi\\anaconda3\\lib\\site-packages)\n"
     ]
    },
    {
     "data": {
      "text/plain": [
       "0"
      ]
     },
     "execution_count": 2,
     "metadata": {},
     "output_type": "execute_result"
    }
   ],
   "source": [
    "from pip._internal import main\n",
    "main([\"install\",\"msgpack\"])\n",
    "main([\"install\",\"pixiedust\"])"
   ]
  },
  {
   "cell_type": "code",
   "execution_count": 3,
   "id": "3a8a1e13",
   "metadata": {},
   "outputs": [
    {
     "name": "stdout",
     "output_type": "stream",
     "text": [
      "Pixiedust database opened successfully\n",
      "Table VERSION_TRACKER created successfully\n",
      "Table METRICS_TRACKER created successfully\n",
      "\n",
      "Share anonymous install statistics? (opt-out instructions)\n",
      "\n",
      "PixieDust will record metadata on its environment the next time the package is installed or updated. The data is anonymized and aggregated to help plan for future releases, and records only the following values:\n",
      "\n",
      "{\n",
      "   \"data_sent\": currentDate,\n",
      "   \"runtime\": \"python\",\n",
      "   \"application_version\": currentPixiedustVersion,\n",
      "   \"space_id\": nonIdentifyingUniqueId,\n",
      "   \"config\": {\n",
      "       \"repository_id\": \"https://github.com/ibm-watson-data-lab/pixiedust\",\n",
      "       \"target_runtimes\": [\"Data Science Experience\"],\n",
      "       \"event_id\": \"web\",\n",
      "       \"event_organizer\": \"dev-journeys\"\n",
      "   }\n",
      "}\n",
      "You can opt out by calling pixiedust.optOut() in a new cell.\n"
     ]
    },
    {
     "data": {
      "text/html": [
       "\n",
       "        <div style=\"margin:10px\">\n",
       "            <a href=\"https://github.com/ibm-watson-data-lab/pixiedust\" target=\"_new\">\n",
       "                <img src=\"https://github.com/ibm-watson-data-lab/pixiedust/raw/master/docs/_static/pd_icon32.png\" style=\"float:left;margin-right:10px\"/>\n",
       "            </a>\n",
       "            <span>Pixiedust version 1.1.19</span>\n",
       "        </div>\n",
       "        "
      ],
      "text/plain": [
       "<IPython.core.display.HTML object>"
      ]
     },
     "metadata": {},
     "output_type": "display_data"
    },
    {
     "name": "stdout",
     "output_type": "stream",
     "text": [
      "\u001b[31mPixiedust runtime updated. Please restart kernel\u001b[0m\n",
      "NumExpr defaulting to 4 threads.\n",
      "Table USER_PREFERENCES created successfully\n",
      "Table service_connections created successfully\n"
     ]
    }
   ],
   "source": [
    "import pixiedust"
   ]
  },
  {
   "cell_type": "code",
   "execution_count": null,
   "id": "7c68c36e",
   "metadata": {},
   "outputs": [
    {
     "name": "stdout",
     "output_type": "stream",
     "text": [
      "Model loaded successfully.\n",
      "<class 'xgboost.sklearn.XGBRegressor'>\n"
     ]
    }
   ],
   "source": [
    "%%pixie_debugger -b perform_feature_engineering_and_scaling\n",
    "\n",
    "import tkinter as tk\n",
    "from tkinter import ttk, scrolledtext\n",
    "import pandas as pd\n",
    "import pickle\n",
    "from sklearn.preprocessing import LabelEncoder, MinMaxScaler\n",
    "from sklearn.exceptions import NotFittedError\n",
    "\n",
    "try:\n",
    "    with open('best_xgb_model.pkl', 'rb') as model_file:\n",
    "        model = pickle.load(model_file)\n",
    "        print(\"Model loaded successfully.\")\n",
    "        #print(\"Model attributes:\", model.get_params())  # Print model attributes for debugging\n",
    "        print(type(model))  # Print model for debugging\n",
    "except (FileNotFoundError, EOFError, pickle.UnpicklingError):\n",
    "    # Handle file not found or unpickling errors\n",
    "    print(\"Error loading XGBoost model.\")\n",
    "    \n",
    "# Load MinMaxScaler\n",
    "with open('min_max_scaler.pkl', 'rb') as scaler_file:\n",
    "    scaler = pickle.load(scaler_file)\n",
    "\n",
    "# Load LabelEncoder for 'brand'\n",
    "with open('label_encoder_brand.pkl', 'rb') as label_encoder_file:\n",
    "    label_encoder_brand = pickle.load(label_encoder_file)\n",
    "\n",
    "# Check if the model is fitted\n",
    "if not hasattr(model, '_Booster') or model._Booster is None:\n",
    "    raise NotFittedError(\"The XGBoost model needs to be fitted or loaded before making predictions.\")\n",
    "\n",
    "# Function to perform feature engineering and scaling\n",
    "def perform_feature_engineering_and_scaling(df):\n",
    "    # Drop unnecessary columns\n",
    "    df = df.drop(['seller', 'offerType', 'model', 'name', 'dateCrawled', 'lastSeen', 'dateCreated', 'postalCode'], axis=1)\n",
    "    \n",
    "    # Creating dummies\n",
    "    df = pd.get_dummies(df, columns=['abtest','vehicleType', 'fuelType', 'gearbox', 'notRepairedDamage'], drop_first=True)\n",
    "\n",
    "    # Ensure that dummy columns are consistent with the training data\n",
    "    dummy_columns_train = set(['abtest_test', 'vehicleType_cabrio', 'vehicleType_coupe', 'vehicleType_limousine', 'vehicleType_others',\n",
    "                                'vehicleType_small car', 'vehicleType_station wagon', 'vehicleType_suv', 'fuelType_diesel',\n",
    "                                'fuelType_electro', 'fuelType_hybrid', 'fuelType_lpg', 'fuelType_other', 'fuelType_petrol',\n",
    "                                'gearbox_manual', 'notRepairedDamage_yes'])\n",
    "\n",
    "    dummy_columns_current = set(df.columns)\n",
    "    missing_dummy_columns = dummy_columns_train - dummy_columns_current\n",
    "    for column in missing_dummy_columns:\n",
    "        df[column] = 0\n",
    "\n",
    "    extra_dummy_columns = dummy_columns_current - dummy_columns_train\n",
    "    df = df.drop(extra_dummy_columns, axis=1)\n",
    "    \n",
    "    # Label encoding for the 'brand' column\n",
    "    if 'brand' in df.columns:\n",
    "        df['brand_encoded'] = label_encoder_brand.transform(df['brand'])\n",
    "        # Dropping brand column\n",
    "        df = df.drop('brand', axis=1)\n",
    "    else:\n",
    "        # If 'brand' column is not present, you may need to handle this case based on your requirements\n",
    "        # For now, let's assume the 'brand' column is missing and set 'brand_encoded' to a default value\n",
    "        df['brand_encoded'] = 0  # You may need to choose a suitable default value\n",
    "\n",
    "#     # Convert 'yearOfRegistration' to numeric\n",
    "#     df['yearOfRegistration'] = pd.to_numeric(df['yearOfRegistration'], errors='coerce')\n",
    "\n",
    "    # Calculate the age of the vehicle\n",
    "    df['yearOfRegistration'] = df['yearOfRegistration'].apply(lambda x: 2023 - x)\n",
    "\n",
    "    # Rename column name from 'yearOfRegistration' to 'YearsFromRegistration'\n",
    "    df.rename(columns={ 'yearOfRegistration':'YearsFromRegistration'}, inplace=True)\n",
    "\n",
    "#     # Convert 'yearOfRegistration' to numeric\n",
    "#     df['monthOfRegistration'] = pd.to_numeric(df['monthOfRegistration'], errors='coerce')\n",
    "\n",
    "#     # Convert 'powerPS' to numeric\n",
    "#     df['powerPS'] = pd.to_numeric(df['powerPS'], errors='coerce')\n",
    "\n",
    "#     # Convert 'kilometer' to numeric\n",
    "#     df['kilometer'] = pd.to_numeric(df['kilometer'], errors='coerce')\n",
    "\n",
    "    # Perform binning for \"monthOfRegistration\" column\n",
    "    bins = [0, 3, 6, 9, 12]\n",
    "    labels = [\"Q1\", \"Q2\", \"Q3\", \"Q4\"]\n",
    "    df['monthOfRegistration'] = pd.cut(df['monthOfRegistration'], bins=bins, labels=labels)\n",
    "    df = pd.get_dummies(df, columns=['monthOfRegistration'], drop_first=True)\n",
    "\n",
    "    # Scale the specified columns\n",
    "    columns_to_scale = ['YearsFromRegistration', 'powerPS', 'kilometer', 'brand_encoded']\n",
    "    df[columns_to_scale] = scaler.transform(df[columns_to_scale])\n",
    "\n",
    "    return df\n",
    "\n",
    "# Function to predict price\n",
    "def predict_price(features):\n",
    "    # Load the features into a DataFrame\n",
    "    input_data = pd.DataFrame(features, index=[0])\n",
    "\n",
    "    # Perform feature engineering and scaling\n",
    "    input_data = perform_feature_engineering_and_scaling(input_data)\n",
    "    print(input_data)\n",
    "    # Predict the price using the pre-trained model\n",
    "    predicted_price = model.predict(input_data)\n",
    "\n",
    "    return predicted_price[0]\n",
    "\n",
    "# Tkinter GUI\n",
    "class CarPricePredictionApp:\n",
    "    def __init__(self, root):\n",
    "        self.root = root\n",
    "        self.root.title(\"Car Price Prediction App\")\n",
    "\n",
    "        # Create a scrolled text widget for displaying the output\n",
    "        self.output_text = scrolledtext.ScrolledText(root, width=50, height=10)\n",
    "        self.output_text.grid(row=0, column=2, rowspan=20, padx=10, pady=10, sticky=\"nsew\")\n",
    "\n",
    "        # Create and place input labels and entry widgets\n",
    "        self.input_entries = {}\n",
    "        input_features = ['dateCrawled', 'name', 'seller', 'offerType', 'abtest', 'vehicleType', 'yearOfRegistration',\n",
    "                           'gearbox', 'powerPS', 'model', 'kilometer', 'monthOfRegistration', 'fuelType', 'brand',\n",
    "                           'notRepairedDamage', 'dateCreated', 'postalCode', 'lastSeen']\n",
    "\n",
    "        for feature in input_features:\n",
    "            label = ttk.Label(root, text=feature)\n",
    "            label.grid(row=input_features.index(feature), column=0, padx=10, pady=10, sticky=tk.W)\n",
    "\n",
    "            entry = ttk.Entry(root)\n",
    "            entry.grid(row=input_features.index(feature), column=1, padx=10, pady=10, sticky=tk.W)\n",
    "            self.input_entries[feature] = entry\n",
    "\n",
    "        # Create and place the Predict button\n",
    "        predict_button = ttk.Button(root, text=\"Predict Price\", command=self.predict_price)\n",
    "        predict_button.grid(row=len(input_features), column=0, columnspan=2, pady=20)\n",
    "\n",
    "    def predict_price(self):\n",
    "        # Get user inputs\n",
    "        features = {feature: entry.get() for feature, entry in self.input_entries.items()}\n",
    "\n",
    "        # Convert user inputs to appropriate data types\n",
    "        features['yearOfRegistration'] = pd.to_numeric(features['yearOfRegistration'], errors='coerce')\n",
    "        features['powerPS'] = pd.to_numeric(features['powerPS'], errors='coerce')\n",
    "        features['kilometer'] = pd.to_numeric(features['kilometer'], errors='coerce')\n",
    "\n",
    "        # Perform prediction\n",
    "        predicted_price = predict_price(features)\n",
    "\n",
    "        # Display the predicted price\n",
    "        self.output_text.delete(1.0, tk.END)  # Clear previous text\n",
    "        self.output_text.insert(tk.END, f\"Predicted Price: {predicted_price:.2f} USD\\n\")\n",
    "\n",
    "\n",
    "if __name__ == \"__main__\":\n",
    "    root = tk.Tk()\n",
    "    app = CarPricePredictionApp(root)\n",
    "\n",
    "    # Configure the grid to expand with the window\n",
    "    root.columnconfigure(2, weight=1)\n",
    "    root.rowconfigure(0, weight=1)\n",
    "\n",
    "    root.mainloop()\n"
   ]
  },
  {
   "cell_type": "code",
   "execution_count": null,
   "id": "2c10c7c1",
   "metadata": {},
   "outputs": [],
   "source": []
  },
  {
   "cell_type": "code",
   "execution_count": null,
   "id": "650d2922",
   "metadata": {},
   "outputs": [],
   "source": []
  }
 ],
 "metadata": {
  "kernelspec": {
   "display_name": "Python 3 (ipykernel)",
   "language": "python",
   "name": "python3"
  },
  "language_info": {
   "codemirror_mode": {
    "name": "ipython",
    "version": 3
   },
   "file_extension": ".py",
   "mimetype": "text/x-python",
   "name": "python",
   "nbconvert_exporter": "python",
   "pygments_lexer": "ipython3",
   "version": "3.9.7"
  },
  "toc": {
   "base_numbering": 1,
   "nav_menu": {},
   "number_sections": true,
   "sideBar": true,
   "skip_h1_title": false,
   "title_cell": "Table of Contents",
   "title_sidebar": "Contents",
   "toc_cell": false,
   "toc_position": {},
   "toc_section_display": true,
   "toc_window_display": false
  }
 },
 "nbformat": 4,
 "nbformat_minor": 5
}
