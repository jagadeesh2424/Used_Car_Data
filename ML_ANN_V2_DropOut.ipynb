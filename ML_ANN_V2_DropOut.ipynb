{
 "cells": [
  {
   "cell_type": "markdown",
   "id": "d544768d",
   "metadata": {},
   "source": [
    "## Regression using ANN - Keras"
   ]
  },
  {
   "cell_type": "code",
   "execution_count": 1,
   "id": "a66b8cf4",
   "metadata": {},
   "outputs": [],
   "source": [
    "# Importing required libraries\n",
    "\n",
    "import numpy as np\n",
    "import pandas as pd\n",
    "from sklearn.preprocessing import StandardScaler\n",
    "from sklearn.metrics import accuracy_score\n",
    "import matplotlib.pyplot as plt\n",
    "import seaborn as sns\n",
    "\n",
    "import warnings\n",
    "warnings.filterwarnings(action='ignore')"
   ]
  },
  {
   "cell_type": "code",
   "execution_count": 2,
   "id": "70b6c0c5",
   "metadata": {},
   "outputs": [
    {
     "data": {
      "text/html": [
       "<div>\n",
       "<style scoped>\n",
       "    .dataframe tbody tr th:only-of-type {\n",
       "        vertical-align: middle;\n",
       "    }\n",
       "\n",
       "    .dataframe tbody tr th {\n",
       "        vertical-align: top;\n",
       "    }\n",
       "\n",
       "    .dataframe thead th {\n",
       "        text-align: right;\n",
       "    }\n",
       "</style>\n",
       "<table border=\"1\" class=\"dataframe\">\n",
       "  <thead>\n",
       "    <tr style=\"text-align: right;\">\n",
       "      <th></th>\n",
       "      <th>YearsFromRegistration</th>\n",
       "      <th>powerPS</th>\n",
       "      <th>kilometer</th>\n",
       "      <th>abtest_test</th>\n",
       "      <th>vehicleType_cabrio</th>\n",
       "      <th>vehicleType_coupe</th>\n",
       "      <th>vehicleType_limousine</th>\n",
       "      <th>vehicleType_others</th>\n",
       "      <th>vehicleType_small car</th>\n",
       "      <th>vehicleType_station wagon</th>\n",
       "      <th>...</th>\n",
       "      <th>fuelType_lpg</th>\n",
       "      <th>fuelType_other</th>\n",
       "      <th>fuelType_petrol</th>\n",
       "      <th>gearbox_manual</th>\n",
       "      <th>notRepairedDamage_yes</th>\n",
       "      <th>brand_encoded</th>\n",
       "      <th>monthOfRegistration_Q2</th>\n",
       "      <th>monthOfRegistration_Q3</th>\n",
       "      <th>monthOfRegistration_Q4</th>\n",
       "      <th>price</th>\n",
       "    </tr>\n",
       "  </thead>\n",
       "  <tbody>\n",
       "    <tr>\n",
       "      <th>0</th>\n",
       "      <td>20</td>\n",
       "      <td>150</td>\n",
       "      <td>150000</td>\n",
       "      <td>1</td>\n",
       "      <td>0</td>\n",
       "      <td>0</td>\n",
       "      <td>1</td>\n",
       "      <td>0</td>\n",
       "      <td>0</td>\n",
       "      <td>0</td>\n",
       "      <td>...</td>\n",
       "      <td>0</td>\n",
       "      <td>0</td>\n",
       "      <td>0</td>\n",
       "      <td>1</td>\n",
       "      <td>0</td>\n",
       "      <td>2</td>\n",
       "      <td>0</td>\n",
       "      <td>0</td>\n",
       "      <td>0</td>\n",
       "      <td>4450</td>\n",
       "    </tr>\n",
       "    <tr>\n",
       "      <th>1</th>\n",
       "      <td>18</td>\n",
       "      <td>163</td>\n",
       "      <td>150000</td>\n",
       "      <td>0</td>\n",
       "      <td>0</td>\n",
       "      <td>0</td>\n",
       "      <td>0</td>\n",
       "      <td>0</td>\n",
       "      <td>0</td>\n",
       "      <td>0</td>\n",
       "      <td>...</td>\n",
       "      <td>0</td>\n",
       "      <td>0</td>\n",
       "      <td>0</td>\n",
       "      <td>1</td>\n",
       "      <td>0</td>\n",
       "      <td>39</td>\n",
       "      <td>1</td>\n",
       "      <td>0</td>\n",
       "      <td>0</td>\n",
       "      <td>13299</td>\n",
       "    </tr>\n",
       "    <tr>\n",
       "      <th>2</th>\n",
       "      <td>20</td>\n",
       "      <td>101</td>\n",
       "      <td>150000</td>\n",
       "      <td>1</td>\n",
       "      <td>0</td>\n",
       "      <td>0</td>\n",
       "      <td>0</td>\n",
       "      <td>0</td>\n",
       "      <td>0</td>\n",
       "      <td>0</td>\n",
       "      <td>...</td>\n",
       "      <td>0</td>\n",
       "      <td>0</td>\n",
       "      <td>0</td>\n",
       "      <td>1</td>\n",
       "      <td>0</td>\n",
       "      <td>38</td>\n",
       "      <td>0</td>\n",
       "      <td>0</td>\n",
       "      <td>1</td>\n",
       "      <td>3200</td>\n",
       "    </tr>\n",
       "    <tr>\n",
       "      <th>3</th>\n",
       "      <td>17</td>\n",
       "      <td>86</td>\n",
       "      <td>60000</td>\n",
       "      <td>0</td>\n",
       "      <td>0</td>\n",
       "      <td>0</td>\n",
       "      <td>0</td>\n",
       "      <td>0</td>\n",
       "      <td>1</td>\n",
       "      <td>0</td>\n",
       "      <td>...</td>\n",
       "      <td>0</td>\n",
       "      <td>0</td>\n",
       "      <td>1</td>\n",
       "      <td>1</td>\n",
       "      <td>0</td>\n",
       "      <td>30</td>\n",
       "      <td>0</td>\n",
       "      <td>0</td>\n",
       "      <td>1</td>\n",
       "      <td>4500</td>\n",
       "    </tr>\n",
       "    <tr>\n",
       "      <th>4</th>\n",
       "      <td>15</td>\n",
       "      <td>185</td>\n",
       "      <td>150000</td>\n",
       "      <td>1</td>\n",
       "      <td>0</td>\n",
       "      <td>0</td>\n",
       "      <td>0</td>\n",
       "      <td>0</td>\n",
       "      <td>0</td>\n",
       "      <td>0</td>\n",
       "      <td>...</td>\n",
       "      <td>0</td>\n",
       "      <td>0</td>\n",
       "      <td>0</td>\n",
       "      <td>0</td>\n",
       "      <td>0</td>\n",
       "      <td>39</td>\n",
       "      <td>0</td>\n",
       "      <td>0</td>\n",
       "      <td>1</td>\n",
       "      <td>18750</td>\n",
       "    </tr>\n",
       "  </tbody>\n",
       "</table>\n",
       "<p>5 rows × 24 columns</p>\n",
       "</div>"
      ],
      "text/plain": [
       "   YearsFromRegistration  powerPS  kilometer  abtest_test  vehicleType_cabrio  \\\n",
       "0                     20      150     150000            1                   0   \n",
       "1                     18      163     150000            0                   0   \n",
       "2                     20      101     150000            1                   0   \n",
       "3                     17       86      60000            0                   0   \n",
       "4                     15      185     150000            1                   0   \n",
       "\n",
       "   vehicleType_coupe  vehicleType_limousine  vehicleType_others  \\\n",
       "0                  0                      1                   0   \n",
       "1                  0                      0                   0   \n",
       "2                  0                      0                   0   \n",
       "3                  0                      0                   0   \n",
       "4                  0                      0                   0   \n",
       "\n",
       "   vehicleType_small car  vehicleType_station wagon  ...  fuelType_lpg  \\\n",
       "0                      0                          0  ...             0   \n",
       "1                      0                          0  ...             0   \n",
       "2                      0                          0  ...             0   \n",
       "3                      1                          0  ...             0   \n",
       "4                      0                          0  ...             0   \n",
       "\n",
       "   fuelType_other  fuelType_petrol  gearbox_manual  notRepairedDamage_yes  \\\n",
       "0               0                0               1                      0   \n",
       "1               0                0               1                      0   \n",
       "2               0                0               1                      0   \n",
       "3               0                1               1                      0   \n",
       "4               0                0               0                      0   \n",
       "\n",
       "   brand_encoded  monthOfRegistration_Q2  monthOfRegistration_Q3  \\\n",
       "0              2                       0                       0   \n",
       "1             39                       1                       0   \n",
       "2             38                       0                       0   \n",
       "3             30                       0                       0   \n",
       "4             39                       0                       0   \n",
       "\n",
       "   monthOfRegistration_Q4  price  \n",
       "0                       0   4450  \n",
       "1                       0  13299  \n",
       "2                       1   3200  \n",
       "3                       1   4500  \n",
       "4                       1  18750  \n",
       "\n",
       "[5 rows x 24 columns]"
      ]
     },
     "execution_count": 2,
     "metadata": {},
     "output_type": "execute_result"
    }
   ],
   "source": [
    "# Reading the dataset\n",
    "df = pd.read_csv(\"Data_to_ModelBuilding.csv\")\n",
    "\n",
    "# Display the first few rows of the dataset\n",
    "df.head()"
   ]
  },
  {
   "cell_type": "code",
   "execution_count": 3,
   "id": "f091381f",
   "metadata": {},
   "outputs": [],
   "source": [
    "X = df.copy()\n",
    "# Remove target\n",
    "y = X.pop('price')"
   ]
  },
  {
   "cell_type": "code",
   "execution_count": 4,
   "id": "5f2992d6",
   "metadata": {},
   "outputs": [],
   "source": [
    "from sklearn.model_selection import train_test_split\n",
    "\n",
    "X_train, X_test, y_train, y_test = train_test_split(X,y,test_size=0.3,random_state=42)"
   ]
  },
  {
   "cell_type": "code",
   "execution_count": 5,
   "id": "a7e80058",
   "metadata": {},
   "outputs": [],
   "source": [
    "from sklearn.preprocessing import MinMaxScaler\n",
    "scaler = MinMaxScaler()\n",
    "X_train= pd.DataFrame(scaler.fit_transform(X_train), columns=X.columns)  \n",
    "X_test = pd.DataFrame(scaler.transform(X_test), columns=X.columns)"
   ]
  },
  {
   "cell_type": "code",
   "execution_count": 6,
   "id": "80f1bbd9",
   "metadata": {},
   "outputs": [
    {
     "data": {
      "text/plain": [
       "((30852, 23), (13223, 23))"
      ]
     },
     "execution_count": 6,
     "metadata": {},
     "output_type": "execute_result"
    }
   ],
   "source": [
    "X_train.shape, X_test.shape"
   ]
  },
  {
   "cell_type": "code",
   "execution_count": 7,
   "id": "25e551db",
   "metadata": {},
   "outputs": [
    {
     "data": {
      "text/plain": [
       "((30852,), (13223,))"
      ]
     },
     "execution_count": 7,
     "metadata": {},
     "output_type": "execute_result"
    }
   ],
   "source": [
    "y_train.shape , y_test.shape"
   ]
  },
  {
   "cell_type": "code",
   "execution_count": 8,
   "id": "c4570997",
   "metadata": {},
   "outputs": [
    {
     "data": {
      "text/html": [
       "<div>\n",
       "<style scoped>\n",
       "    .dataframe tbody tr th:only-of-type {\n",
       "        vertical-align: middle;\n",
       "    }\n",
       "\n",
       "    .dataframe tbody tr th {\n",
       "        vertical-align: top;\n",
       "    }\n",
       "\n",
       "    .dataframe thead th {\n",
       "        text-align: right;\n",
       "    }\n",
       "</style>\n",
       "<table border=\"1\" class=\"dataframe\">\n",
       "  <thead>\n",
       "    <tr style=\"text-align: right;\">\n",
       "      <th></th>\n",
       "      <th>YearsFromRegistration</th>\n",
       "      <th>powerPS</th>\n",
       "      <th>kilometer</th>\n",
       "      <th>abtest_test</th>\n",
       "      <th>vehicleType_cabrio</th>\n",
       "      <th>vehicleType_coupe</th>\n",
       "      <th>vehicleType_limousine</th>\n",
       "      <th>vehicleType_others</th>\n",
       "      <th>vehicleType_small car</th>\n",
       "      <th>vehicleType_station wagon</th>\n",
       "      <th>...</th>\n",
       "      <th>fuelType_hybrid</th>\n",
       "      <th>fuelType_lpg</th>\n",
       "      <th>fuelType_other</th>\n",
       "      <th>fuelType_petrol</th>\n",
       "      <th>gearbox_manual</th>\n",
       "      <th>notRepairedDamage_yes</th>\n",
       "      <th>brand_encoded</th>\n",
       "      <th>monthOfRegistration_Q2</th>\n",
       "      <th>monthOfRegistration_Q3</th>\n",
       "      <th>monthOfRegistration_Q4</th>\n",
       "    </tr>\n",
       "  </thead>\n",
       "  <tbody>\n",
       "    <tr>\n",
       "      <th>0</th>\n",
       "      <td>0.166667</td>\n",
       "      <td>0.021923</td>\n",
       "      <td>0.827586</td>\n",
       "      <td>0.0</td>\n",
       "      <td>0.0</td>\n",
       "      <td>0.0</td>\n",
       "      <td>0.0</td>\n",
       "      <td>0.0</td>\n",
       "      <td>1.0</td>\n",
       "      <td>0.0</td>\n",
       "      <td>...</td>\n",
       "      <td>0.0</td>\n",
       "      <td>0.0</td>\n",
       "      <td>0.0</td>\n",
       "      <td>1.0</td>\n",
       "      <td>1.0</td>\n",
       "      <td>0.0</td>\n",
       "      <td>0.974359</td>\n",
       "      <td>0.0</td>\n",
       "      <td>0.0</td>\n",
       "      <td>1.0</td>\n",
       "    </tr>\n",
       "    <tr>\n",
       "      <th>1</th>\n",
       "      <td>0.133333</td>\n",
       "      <td>0.059292</td>\n",
       "      <td>1.000000</td>\n",
       "      <td>1.0</td>\n",
       "      <td>0.0</td>\n",
       "      <td>0.0</td>\n",
       "      <td>0.0</td>\n",
       "      <td>0.0</td>\n",
       "      <td>0.0</td>\n",
       "      <td>0.0</td>\n",
       "      <td>...</td>\n",
       "      <td>0.0</td>\n",
       "      <td>0.0</td>\n",
       "      <td>0.0</td>\n",
       "      <td>0.0</td>\n",
       "      <td>1.0</td>\n",
       "      <td>0.0</td>\n",
       "      <td>0.512821</td>\n",
       "      <td>0.0</td>\n",
       "      <td>0.0</td>\n",
       "      <td>1.0</td>\n",
       "    </tr>\n",
       "    <tr>\n",
       "      <th>2</th>\n",
       "      <td>0.211111</td>\n",
       "      <td>0.103637</td>\n",
       "      <td>1.000000</td>\n",
       "      <td>0.0</td>\n",
       "      <td>1.0</td>\n",
       "      <td>0.0</td>\n",
       "      <td>0.0</td>\n",
       "      <td>0.0</td>\n",
       "      <td>0.0</td>\n",
       "      <td>0.0</td>\n",
       "      <td>...</td>\n",
       "      <td>0.0</td>\n",
       "      <td>0.0</td>\n",
       "      <td>0.0</td>\n",
       "      <td>1.0</td>\n",
       "      <td>0.0</td>\n",
       "      <td>0.0</td>\n",
       "      <td>0.512821</td>\n",
       "      <td>1.0</td>\n",
       "      <td>0.0</td>\n",
       "      <td>0.0</td>\n",
       "    </tr>\n",
       "    <tr>\n",
       "      <th>3</th>\n",
       "      <td>0.211111</td>\n",
       "      <td>0.032387</td>\n",
       "      <td>1.000000</td>\n",
       "      <td>0.0</td>\n",
       "      <td>0.0</td>\n",
       "      <td>0.0</td>\n",
       "      <td>0.0</td>\n",
       "      <td>0.0</td>\n",
       "      <td>1.0</td>\n",
       "      <td>0.0</td>\n",
       "      <td>...</td>\n",
       "      <td>0.0</td>\n",
       "      <td>0.0</td>\n",
       "      <td>0.0</td>\n",
       "      <td>1.0</td>\n",
       "      <td>1.0</td>\n",
       "      <td>0.0</td>\n",
       "      <td>0.025641</td>\n",
       "      <td>0.0</td>\n",
       "      <td>1.0</td>\n",
       "      <td>0.0</td>\n",
       "    </tr>\n",
       "    <tr>\n",
       "      <th>4</th>\n",
       "      <td>0.233333</td>\n",
       "      <td>0.027404</td>\n",
       "      <td>1.000000</td>\n",
       "      <td>1.0</td>\n",
       "      <td>0.0</td>\n",
       "      <td>0.0</td>\n",
       "      <td>0.0</td>\n",
       "      <td>0.0</td>\n",
       "      <td>1.0</td>\n",
       "      <td>0.0</td>\n",
       "      <td>...</td>\n",
       "      <td>0.0</td>\n",
       "      <td>0.0</td>\n",
       "      <td>0.0</td>\n",
       "      <td>1.0</td>\n",
       "      <td>1.0</td>\n",
       "      <td>0.0</td>\n",
       "      <td>0.615385</td>\n",
       "      <td>0.0</td>\n",
       "      <td>1.0</td>\n",
       "      <td>0.0</td>\n",
       "    </tr>\n",
       "  </tbody>\n",
       "</table>\n",
       "<p>5 rows × 23 columns</p>\n",
       "</div>"
      ],
      "text/plain": [
       "   YearsFromRegistration   powerPS  kilometer  abtest_test  \\\n",
       "0               0.166667  0.021923   0.827586          0.0   \n",
       "1               0.133333  0.059292   1.000000          1.0   \n",
       "2               0.211111  0.103637   1.000000          0.0   \n",
       "3               0.211111  0.032387   1.000000          0.0   \n",
       "4               0.233333  0.027404   1.000000          1.0   \n",
       "\n",
       "   vehicleType_cabrio  vehicleType_coupe  vehicleType_limousine  \\\n",
       "0                 0.0                0.0                    0.0   \n",
       "1                 0.0                0.0                    0.0   \n",
       "2                 1.0                0.0                    0.0   \n",
       "3                 0.0                0.0                    0.0   \n",
       "4                 0.0                0.0                    0.0   \n",
       "\n",
       "   vehicleType_others  vehicleType_small car  vehicleType_station wagon  ...  \\\n",
       "0                 0.0                    1.0                        0.0  ...   \n",
       "1                 0.0                    0.0                        0.0  ...   \n",
       "2                 0.0                    0.0                        0.0  ...   \n",
       "3                 0.0                    1.0                        0.0  ...   \n",
       "4                 0.0                    1.0                        0.0  ...   \n",
       "\n",
       "   fuelType_hybrid  fuelType_lpg  fuelType_other  fuelType_petrol  \\\n",
       "0              0.0           0.0             0.0              1.0   \n",
       "1              0.0           0.0             0.0              0.0   \n",
       "2              0.0           0.0             0.0              1.0   \n",
       "3              0.0           0.0             0.0              1.0   \n",
       "4              0.0           0.0             0.0              1.0   \n",
       "\n",
       "   gearbox_manual  notRepairedDamage_yes  brand_encoded  \\\n",
       "0             1.0                    0.0       0.974359   \n",
       "1             1.0                    0.0       0.512821   \n",
       "2             0.0                    0.0       0.512821   \n",
       "3             1.0                    0.0       0.025641   \n",
       "4             1.0                    0.0       0.615385   \n",
       "\n",
       "   monthOfRegistration_Q2  monthOfRegistration_Q3  monthOfRegistration_Q4  \n",
       "0                     0.0                     0.0                     1.0  \n",
       "1                     0.0                     0.0                     1.0  \n",
       "2                     1.0                     0.0                     0.0  \n",
       "3                     0.0                     1.0                     0.0  \n",
       "4                     0.0                     1.0                     0.0  \n",
       "\n",
       "[5 rows x 23 columns]"
      ]
     },
     "execution_count": 8,
     "metadata": {},
     "output_type": "execute_result"
    }
   ],
   "source": [
    "X_train.head()"
   ]
  },
  {
   "cell_type": "code",
   "execution_count": 9,
   "id": "bf9398d7",
   "metadata": {},
   "outputs": [
    {
     "data": {
      "text/plain": [
       "34921    2950\n",
       "33036    6300\n",
       "25839    7499\n",
       "3448     2500\n",
       "20701     950\n",
       "Name: price, dtype: int64"
      ]
     },
     "execution_count": 9,
     "metadata": {},
     "output_type": "execute_result"
    }
   ],
   "source": [
    "y_train.head()"
   ]
  },
  {
   "cell_type": "code",
   "execution_count": 13,
   "id": "fc9fd431",
   "metadata": {},
   "outputs": [],
   "source": [
    "from tensorflow.keras.models import Sequential\n",
    "from tensorflow.keras.layers import Dense, Activation\n",
    "from tensorflow.keras.optimizers import Adam"
   ]
  },
  {
   "cell_type": "code",
   "execution_count": 14,
   "id": "7f6309db",
   "metadata": {},
   "outputs": [],
   "source": [
    "from keras.layers import Dropout\n",
    "\n",
    "model = Sequential()\n",
    "\n",
    "model.add(Dense(20, activation='relu'))\n",
    "model.add(Dropout(0.5))  # Add dropout layer with a dropout rate (e.g., 0.5)\n",
    "model.add(Dense(20, activation='relu'))\n",
    "model.add(Dropout(0.5))  # Add dropout layer with a dropout rate (e.g., 0.5)\n",
    "model.add(Dense(20, activation='relu'))\n",
    "model.add(Dropout(0.5))  # Add dropout layer with a dropout rate (e.g., 0.5)\n",
    "model.add(Dense(20, activation='relu'))\n",
    "model.add(Dropout(0.5))  # Add dropout layer with a dropout rate (e.g., 0.5)\n",
    "model.add(Dense(1))\n",
    "\n",
    "model.compile(optimizer='Adam', loss='mse')\n"
   ]
  },
  {
   "cell_type": "markdown",
   "id": "90bdd5b9",
   "metadata": {},
   "source": [
    "## Training the Model"
   ]
  },
  {
   "cell_type": "code",
   "execution_count": 15,
   "id": "1e1c9df7",
   "metadata": {},
   "outputs": [
    {
     "name": "stdout",
     "output_type": "stream",
     "text": [
      "Epoch 1/100\n",
      "242/242 [==============================] - 3s 6ms/step - loss: 91520552.0000 - val_loss: 68385656.0000\n",
      "Epoch 2/100\n",
      "242/242 [==============================] - 1s 4ms/step - loss: 68810720.0000 - val_loss: 60563580.0000\n",
      "Epoch 3/100\n",
      "242/242 [==============================] - 1s 4ms/step - loss: 61298536.0000 - val_loss: 50642936.0000\n",
      "Epoch 4/100\n",
      "242/242 [==============================] - 1s 4ms/step - loss: 54417656.0000 - val_loss: 43824864.0000\n",
      "Epoch 5/100\n",
      "242/242 [==============================] - 1s 4ms/step - loss: 49193232.0000 - val_loss: 37958704.0000\n",
      "Epoch 6/100\n",
      "242/242 [==============================] - 1s 4ms/step - loss: 47225424.0000 - val_loss: 36781892.0000\n",
      "Epoch 7/100\n",
      "242/242 [==============================] - 1s 4ms/step - loss: 45709232.0000 - val_loss: 35371992.0000\n",
      "Epoch 8/100\n",
      "242/242 [==============================] - 1s 4ms/step - loss: 44017064.0000 - val_loss: 33485006.0000\n",
      "Epoch 9/100\n",
      "242/242 [==============================] - 1s 4ms/step - loss: 43800348.0000 - val_loss: 32418520.0000\n",
      "Epoch 10/100\n",
      "242/242 [==============================] - 1s 4ms/step - loss: 43413948.0000 - val_loss: 33521610.0000\n",
      "Epoch 11/100\n",
      "242/242 [==============================] - 1s 4ms/step - loss: 42371480.0000 - val_loss: 32407108.0000\n",
      "Epoch 12/100\n",
      "242/242 [==============================] - 1s 4ms/step - loss: 42390180.0000 - val_loss: 30974532.0000\n",
      "Epoch 13/100\n",
      "242/242 [==============================] - 1s 4ms/step - loss: 42498940.0000 - val_loss: 31145620.0000\n",
      "Epoch 14/100\n",
      "242/242 [==============================] - 1s 4ms/step - loss: 40988764.0000 - val_loss: 30536906.0000\n",
      "Epoch 15/100\n",
      "242/242 [==============================] - 1s 4ms/step - loss: 42231928.0000 - val_loss: 31416372.0000\n",
      "Epoch 16/100\n",
      "242/242 [==============================] - 1s 4ms/step - loss: 40538580.0000 - val_loss: 30526490.0000\n",
      "Epoch 17/100\n",
      "242/242 [==============================] - 1s 5ms/step - loss: 40157740.0000 - val_loss: 30569186.0000\n",
      "Epoch 18/100\n",
      "242/242 [==============================] - 1s 4ms/step - loss: 41619320.0000 - val_loss: 30695374.0000\n",
      "Epoch 19/100\n",
      "242/242 [==============================] - 1s 4ms/step - loss: 40810064.0000 - val_loss: 29310360.0000\n",
      "Epoch 20/100\n",
      "242/242 [==============================] - 1s 4ms/step - loss: 40863952.0000 - val_loss: 29298966.0000\n",
      "Epoch 21/100\n",
      "242/242 [==============================] - 1s 4ms/step - loss: 40377564.0000 - val_loss: 29467900.0000\n",
      "Epoch 22/100\n",
      "242/242 [==============================] - 1s 5ms/step - loss: 39874352.0000 - val_loss: 29473132.0000\n",
      "Epoch 23/100\n",
      "242/242 [==============================] - 1s 4ms/step - loss: 40162868.0000 - val_loss: 28365052.0000\n",
      "Epoch 24/100\n",
      "242/242 [==============================] - 1s 4ms/step - loss: 40798188.0000 - val_loss: 28693242.0000\n",
      "Epoch 25/100\n",
      "242/242 [==============================] - 1s 4ms/step - loss: 40974596.0000 - val_loss: 28843126.0000\n",
      "Epoch 26/100\n",
      "242/242 [==============================] - 1s 4ms/step - loss: 40329288.0000 - val_loss: 28699386.0000\n",
      "Epoch 27/100\n",
      "242/242 [==============================] - 1s 4ms/step - loss: 39209528.0000 - val_loss: 28894516.0000\n",
      "Epoch 28/100\n",
      "242/242 [==============================] - 1s 4ms/step - loss: 39352792.0000 - val_loss: 29183260.0000\n",
      "Epoch 29/100\n",
      "242/242 [==============================] - 1s 4ms/step - loss: 39012360.0000 - val_loss: 28841794.0000\n",
      "Epoch 30/100\n",
      "242/242 [==============================] - 1s 4ms/step - loss: 39952460.0000 - val_loss: 28937002.0000\n",
      "Epoch 31/100\n",
      "242/242 [==============================] - 1s 4ms/step - loss: 39890532.0000 - val_loss: 28838558.0000\n",
      "Epoch 32/100\n",
      "242/242 [==============================] - 1s 5ms/step - loss: 39053404.0000 - val_loss: 28608350.0000\n",
      "Epoch 33/100\n",
      "242/242 [==============================] - 1s 5ms/step - loss: 39504608.0000 - val_loss: 27779020.0000\n",
      "Epoch 34/100\n",
      "242/242 [==============================] - 1s 4ms/step - loss: 39228816.0000 - val_loss: 29575436.0000\n",
      "Epoch 35/100\n",
      "242/242 [==============================] - 1s 4ms/step - loss: 39680404.0000 - val_loss: 28368900.0000\n",
      "Epoch 36/100\n",
      "242/242 [==============================] - 1s 4ms/step - loss: 38647396.0000 - val_loss: 27991936.0000\n",
      "Epoch 37/100\n",
      "242/242 [==============================] - 1s 4ms/step - loss: 39643108.0000 - val_loss: 27986806.0000\n",
      "Epoch 38/100\n",
      "242/242 [==============================] - 1s 4ms/step - loss: 40187084.0000 - val_loss: 28741984.0000\n",
      "Epoch 39/100\n",
      "242/242 [==============================] - 1s 4ms/step - loss: 38052536.0000 - val_loss: 27631790.0000\n",
      "Epoch 40/100\n",
      "242/242 [==============================] - 1s 4ms/step - loss: 38596928.0000 - val_loss: 27634622.0000\n",
      "Epoch 41/100\n",
      "242/242 [==============================] - 1s 4ms/step - loss: 39166508.0000 - val_loss: 27456660.0000\n",
      "Epoch 42/100\n",
      "242/242 [==============================] - 1s 4ms/step - loss: 38567112.0000 - val_loss: 27028646.0000\n",
      "Epoch 43/100\n",
      "242/242 [==============================] - 1s 4ms/step - loss: 38449472.0000 - val_loss: 27024768.0000\n",
      "Epoch 44/100\n",
      "242/242 [==============================] - 1s 4ms/step - loss: 38299820.0000 - val_loss: 27545228.0000\n",
      "Epoch 45/100\n",
      "242/242 [==============================] - 1s 4ms/step - loss: 38569896.0000 - val_loss: 26454576.0000\n",
      "Epoch 46/100\n",
      "242/242 [==============================] - 1s 4ms/step - loss: 38376064.0000 - val_loss: 26786988.0000\n",
      "Epoch 47/100\n",
      "242/242 [==============================] - 1s 4ms/step - loss: 38689216.0000 - val_loss: 27142000.0000\n",
      "Epoch 48/100\n",
      "242/242 [==============================] - 1s 4ms/step - loss: 38405024.0000 - val_loss: 27368004.0000\n",
      "Epoch 49/100\n",
      "242/242 [==============================] - 1s 4ms/step - loss: 38448760.0000 - val_loss: 26759200.0000\n",
      "Epoch 50/100\n",
      "242/242 [==============================] - 1s 4ms/step - loss: 39843300.0000 - val_loss: 27581782.0000\n",
      "Epoch 51/100\n",
      "242/242 [==============================] - 1s 4ms/step - loss: 37923636.0000 - val_loss: 27138302.0000\n",
      "Epoch 52/100\n",
      "242/242 [==============================] - 1s 4ms/step - loss: 38851880.0000 - val_loss: 27978970.0000\n",
      "Epoch 53/100\n",
      "242/242 [==============================] - 1s 4ms/step - loss: 37501036.0000 - val_loss: 27523648.0000\n",
      "Epoch 54/100\n",
      "242/242 [==============================] - 1s 4ms/step - loss: 38433948.0000 - val_loss: 26807234.0000\n",
      "Epoch 55/100\n",
      "242/242 [==============================] - 1s 4ms/step - loss: 39435884.0000 - val_loss: 26109106.0000\n",
      "Epoch 56/100\n",
      "242/242 [==============================] - 1s 4ms/step - loss: 37264344.0000 - val_loss: 26278880.0000\n",
      "Epoch 57/100\n",
      "242/242 [==============================] - 1s 4ms/step - loss: 38012512.0000 - val_loss: 27138260.0000\n",
      "Epoch 58/100\n",
      "242/242 [==============================] - 1s 4ms/step - loss: 38009192.0000 - val_loss: 26502264.0000\n",
      "Epoch 59/100\n",
      "242/242 [==============================] - 1s 5ms/step - loss: 38862776.0000 - val_loss: 27699962.0000\n",
      "Epoch 60/100\n",
      "242/242 [==============================] - 1s 5ms/step - loss: 37421368.0000 - val_loss: 25868836.0000\n",
      "Epoch 61/100\n",
      "242/242 [==============================] - 1s 5ms/step - loss: 36526552.0000 - val_loss: 26657748.0000\n",
      "Epoch 62/100\n",
      "242/242 [==============================] - 1s 5ms/step - loss: 36853632.0000 - val_loss: 26031230.0000\n",
      "Epoch 63/100\n",
      "242/242 [==============================] - 1s 5ms/step - loss: 36761348.0000 - val_loss: 26061140.0000\n",
      "Epoch 64/100\n",
      "242/242 [==============================] - 1s 5ms/step - loss: 36680184.0000 - val_loss: 26732590.0000\n",
      "Epoch 65/100\n",
      "242/242 [==============================] - 1s 5ms/step - loss: 36848556.0000 - val_loss: 25429482.0000\n",
      "Epoch 66/100\n",
      "242/242 [==============================] - 1s 6ms/step - loss: 36837052.0000 - val_loss: 25574484.0000\n",
      "Epoch 67/100\n",
      "242/242 [==============================] - 1s 5ms/step - loss: 36578480.0000 - val_loss: 26257414.0000\n",
      "Epoch 68/100\n",
      "242/242 [==============================] - 1s 5ms/step - loss: 37357356.0000 - val_loss: 25960902.0000\n",
      "Epoch 69/100\n",
      "242/242 [==============================] - 1s 5ms/step - loss: 36887548.0000 - val_loss: 26269984.0000\n",
      "Epoch 70/100\n",
      "242/242 [==============================] - 1s 5ms/step - loss: 36268788.0000 - val_loss: 25353006.0000\n",
      "Epoch 71/100\n"
     ]
    },
    {
     "name": "stdout",
     "output_type": "stream",
     "text": [
      "242/242 [==============================] - 1s 6ms/step - loss: 36261924.0000 - val_loss: 25152548.0000\n",
      "Epoch 72/100\n",
      "242/242 [==============================] - 1s 6ms/step - loss: 37246000.0000 - val_loss: 26222386.0000\n",
      "Epoch 73/100\n",
      "242/242 [==============================] - 1s 4ms/step - loss: 35694616.0000 - val_loss: 25966740.0000\n",
      "Epoch 74/100\n",
      "242/242 [==============================] - 1s 5ms/step - loss: 36867344.0000 - val_loss: 25892796.0000\n",
      "Epoch 75/100\n",
      "242/242 [==============================] - 1s 5ms/step - loss: 37057596.0000 - val_loss: 25907232.0000\n",
      "Epoch 76/100\n",
      "242/242 [==============================] - 1s 4ms/step - loss: 36357784.0000 - val_loss: 25267766.0000\n",
      "Epoch 77/100\n",
      "242/242 [==============================] - 1s 6ms/step - loss: 37269756.0000 - val_loss: 27027974.0000\n",
      "Epoch 78/100\n",
      "242/242 [==============================] - 1s 5ms/step - loss: 37981440.0000 - val_loss: 25758624.0000\n",
      "Epoch 79/100\n",
      "242/242 [==============================] - 1s 6ms/step - loss: 35912168.0000 - val_loss: 25517576.0000\n",
      "Epoch 80/100\n",
      "242/242 [==============================] - 1s 6ms/step - loss: 36036092.0000 - val_loss: 25391678.0000\n",
      "Epoch 81/100\n",
      "242/242 [==============================] - 1s 5ms/step - loss: 36309712.0000 - val_loss: 25688192.0000\n",
      "Epoch 82/100\n",
      "242/242 [==============================] - 1s 4ms/step - loss: 35836004.0000 - val_loss: 25361088.0000\n",
      "Epoch 83/100\n",
      "242/242 [==============================] - 1s 4ms/step - loss: 37020580.0000 - val_loss: 25195608.0000\n",
      "Epoch 84/100\n",
      "242/242 [==============================] - 1s 5ms/step - loss: 35818072.0000 - val_loss: 25712400.0000\n",
      "Epoch 85/100\n",
      "242/242 [==============================] - 1s 4ms/step - loss: 35456200.0000 - val_loss: 24833182.0000\n",
      "Epoch 86/100\n",
      "242/242 [==============================] - 1s 4ms/step - loss: 35785024.0000 - val_loss: 25244484.0000\n",
      "Epoch 87/100\n",
      "242/242 [==============================] - 1s 4ms/step - loss: 37947344.0000 - val_loss: 26140156.0000\n",
      "Epoch 88/100\n",
      "242/242 [==============================] - 1s 4ms/step - loss: 36680048.0000 - val_loss: 24644390.0000\n",
      "Epoch 89/100\n",
      "242/242 [==============================] - 1s 4ms/step - loss: 36896760.0000 - val_loss: 26213158.0000\n",
      "Epoch 90/100\n",
      "242/242 [==============================] - 1s 4ms/step - loss: 36753408.0000 - val_loss: 25166092.0000\n",
      "Epoch 91/100\n",
      "242/242 [==============================] - 1s 4ms/step - loss: 36962320.0000 - val_loss: 25584068.0000\n",
      "Epoch 92/100\n",
      "242/242 [==============================] - 1s 4ms/step - loss: 36460896.0000 - val_loss: 26613954.0000\n",
      "Epoch 93/100\n",
      "242/242 [==============================] - 1s 4ms/step - loss: 36947088.0000 - val_loss: 25571146.0000\n",
      "Epoch 94/100\n",
      "242/242 [==============================] - 1s 4ms/step - loss: 36614768.0000 - val_loss: 23884718.0000\n",
      "Epoch 95/100\n",
      "242/242 [==============================] - 1s 4ms/step - loss: 37273320.0000 - val_loss: 26426792.0000\n",
      "Epoch 96/100\n",
      "242/242 [==============================] - 1s 4ms/step - loss: 35756300.0000 - val_loss: 25252812.0000\n",
      "Epoch 97/100\n",
      "242/242 [==============================] - 1s 4ms/step - loss: 36936400.0000 - val_loss: 25014370.0000\n",
      "Epoch 98/100\n",
      "242/242 [==============================] - 1s 4ms/step - loss: 36155448.0000 - val_loss: 24094636.0000\n",
      "Epoch 99/100\n",
      "242/242 [==============================] - 1s 4ms/step - loss: 36780976.0000 - val_loss: 24603048.0000\n",
      "Epoch 100/100\n",
      "242/242 [==============================] - 1s 4ms/step - loss: 36692856.0000 - val_loss: 24960370.0000\n",
      "Training time: 106.05591917037964 seconds\n"
     ]
    }
   ],
   "source": [
    "import time\n",
    "\n",
    "start_time = time.time()\n",
    "\n",
    "history = model.fit(x=X_train, y=y_train.values,\n",
    "                    validation_data=(X_test, y_test.values),\n",
    "                    batch_size=128, epochs=100)\n",
    "\n",
    "end_time = time.time()\n",
    "\n",
    "training_time = end_time - start_time\n",
    "print(f\"Training time: {training_time} seconds\")"
   ]
  },
  {
   "cell_type": "code",
   "execution_count": 16,
   "id": "50955020",
   "metadata": {},
   "outputs": [],
   "source": [
    "losses = pd.DataFrame(model.history.history)"
   ]
  },
  {
   "cell_type": "code",
   "execution_count": 17,
   "id": "7a27ad08",
   "metadata": {},
   "outputs": [
    {
     "data": {
      "text/plain": [
       "<AxesSubplot:>"
      ]
     },
     "execution_count": 17,
     "metadata": {},
     "output_type": "execute_result"
    },
    {
     "data": {
      "image/png": "[encoded data removed]",
      "text/plain": [
       "<Figure size 432x288 with 1 Axes>"
      ]
     },
     "metadata": {
      "needs_background": "light"
     },
     "output_type": "display_data"
    }
   ],
   "source": [
    "losses.plot()"
   ]
  },
  {
   "cell_type": "markdown",
   "id": "e593bb84",
   "metadata": {},
   "source": [
    "## Evaluation on Test Data\n",
    "\n",
    "https://scikit-learn.org/stable/modules/model_evaluation.html#regression-metrics"
   ]
  },
  {
   "cell_type": "code",
   "execution_count": 18,
   "id": "fb31443d",
   "metadata": {},
   "outputs": [],
   "source": [
    "from sklearn.metrics import mean_squared_error,mean_absolute_error,explained_variance_score"
   ]
  },
  {
   "cell_type": "markdown",
   "id": "c706535e",
   "metadata": {},
   "source": [
    "### Predicting on Brand New Data"
   ]
  },
  {
   "cell_type": "code",
   "execution_count": 19,
   "id": "81f161f2",
   "metadata": {},
   "outputs": [
    {
     "name": "stdout",
     "output_type": "stream",
     "text": [
      "414/414 [==============================] - 1s 2ms/step\n"
     ]
    }
   ],
   "source": [
    "predictions = model.predict(X_test)"
   ]
  },
  {
   "cell_type": "code",
   "execution_count": 20,
   "id": "31d6147f",
   "metadata": {},
   "outputs": [
    {
     "data": {
      "text/plain": [
       "2590.2996741702136"
      ]
     },
     "execution_count": 20,
     "metadata": {},
     "output_type": "execute_result"
    }
   ],
   "source": [
    "mean_absolute_error(y_test,predictions)"
   ]
  },
  {
   "cell_type": "code",
   "execution_count": 21,
   "id": "57c798b9",
   "metadata": {},
   "outputs": [
    {
     "data": {
      "text/plain": [
       "4996.034692631411"
      ]
     },
     "execution_count": 21,
     "metadata": {},
     "output_type": "execute_result"
    }
   ],
   "source": [
    "np.sqrt(mean_squared_error(y_test,predictions))"
   ]
  },
  {
   "cell_type": "code",
   "execution_count": 22,
   "id": "3168f2dc",
   "metadata": {},
   "outputs": [
    {
     "data": {
      "text/plain": [
       "0.608401725181476"
      ]
     },
     "execution_count": 22,
     "metadata": {},
     "output_type": "execute_result"
    }
   ],
   "source": [
    "explained_variance_score(y_test,predictions)"
   ]
  },
  {
   "cell_type": "code",
   "execution_count": 23,
   "id": "a11b16af",
   "metadata": {},
   "outputs": [
    {
     "name": "stdout",
     "output_type": "stream",
     "text": [
      "R2 Score: 0.5971350005991872\n"
     ]
    }
   ],
   "source": [
    "from sklearn.metrics import r2_score\n",
    "\n",
    "# Calculate R2 score\n",
    "r2 = r2_score(y_test, predictions)\n",
    "\n",
    "print(f'R2 Score: {r2}')"
   ]
  },
  {
   "cell_type": "code",
   "execution_count": 24,
   "id": "0ce81018",
   "metadata": {},
   "outputs": [
    {
     "data": {
      "text/plain": [
       "[<matplotlib.lines.Line2D at 0x1c5f280c7f0>]"
      ]
     },
     "execution_count": 24,
     "metadata": {},
     "output_type": "execute_result"
    },
    {
     "data": {
      "image/png": "[encoded data removed]",
      "text/plain": [
       "<Figure size 432x288 with 1 Axes>"
      ]
     },
     "metadata": {
      "needs_background": "light"
     },
     "output_type": "display_data"
    }
   ],
   "source": [
    "# Our predictions\n",
    "plt.scatter(y_test,predictions)\n",
    "\n",
    "# Perfect predictions\n",
    "plt.plot(y_test,y_test,'r')"
   ]
  },
  {
   "cell_type": "code",
   "execution_count": 25,
   "id": "2d1a925d",
   "metadata": {},
   "outputs": [
    {
     "data": {
      "text/plain": [
       "(13223,)"
      ]
     },
     "execution_count": 25,
     "metadata": {},
     "output_type": "execute_result"
    }
   ],
   "source": [
    "y_test.shape"
   ]
  },
  {
   "cell_type": "code",
   "execution_count": 26,
   "id": "1d8e7cf6",
   "metadata": {},
   "outputs": [],
   "source": [
    "errors = y_test.values.reshape(13223, 1) - predictions\n"
   ]
  },
  {
   "cell_type": "code",
   "execution_count": 27,
   "id": "0dbbca44",
   "metadata": {},
   "outputs": [
    {
     "data": {
      "text/plain": [
       "<AxesSubplot:ylabel='Density'>"
      ]
     },
     "execution_count": 27,
     "metadata": {},
     "output_type": "execute_result"
    },
    {
     "data": {
      "image/png": "[encoded data removed]",
      "text/plain": [
       "<Figure size 432x288 with 1 Axes>"
      ]
     },
     "metadata": {
      "needs_background": "light"
     },
     "output_type": "display_data"
    }
   ],
   "source": [
    "sns.distplot(errors)"
   ]
  },
  {
   "cell_type": "code",
   "execution_count": null,
   "id": "4c829bb0",
   "metadata": {},
   "outputs": [],
   "source": []
  }
 ],
 "metadata": {
  "kernelspec": {
   "display_name": "Python 3 (ipykernel)",
   "language": "python",
   "name": "python3"
  },
  "language_info": {
   "codemirror_mode": {
    "name": "ipython",
    "version": 3
   },
   "file_extension": ".py",
   "mimetype": "text/x-python",
   "name": "python",
   "nbconvert_exporter": "python",
   "pygments_lexer": "ipython3",
   "version": "3.9.7"
  },
  "toc": {
   "base_numbering": 1,
   "nav_menu": {},
   "number_sections": true,
   "sideBar": true,
   "skip_h1_title": false,
   "title_cell": "Table of Contents",
   "title_sidebar": "Contents",
   "toc_cell": false,
   "toc_position": {},
   "toc_section_display": true,
   "toc_window_display": false
  }
 },
 "nbformat": 4,
 "nbformat_minor": 5
}
