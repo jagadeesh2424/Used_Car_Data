{
 "cells": [
  {
   "cell_type": "markdown",
   "id": "d544768d",
   "metadata": {},
   "source": [
    "## Regression using ANN - Keras\n",
    "\n",
    "Some hyperparameters we will play with are:\n",
    "\n",
    "Adding and removing dropouts in convolutional layers\n",
    "\n",
    "Batch Normalization (BN)\n",
    "\n",
    "L2 regularisation\n",
    "\n",
    "Increasing the number of convolution layers\n",
    "\n",
    "Increasing the number of filters in certain layers "
   ]
  },
  {
   "cell_type": "code",
   "execution_count": 29,
   "id": "a66b8cf4",
   "metadata": {},
   "outputs": [],
   "source": [
    "# Importing required libraries\n",
    "\n",
    "import numpy as np\n",
    "import pandas as pd\n",
    "from sklearn.preprocessing import StandardScaler\n",
    "from sklearn.metrics import accuracy_score\n",
    "import matplotlib.pyplot as plt\n",
    "import seaborn as sns\n",
    "\n",
    "import warnings\n",
    "warnings.filterwarnings(action='ignore')"
   ]
  },
  {
   "cell_type": "code",
   "execution_count": 30,
   "id": "70b6c0c5",
   "metadata": {},
   "outputs": [
    {
     "data": {
      "text/html": [
       "<div>\n",
       "<style scoped>\n",
       "    .dataframe tbody tr th:only-of-type {\n",
       "        vertical-align: middle;\n",
       "    }\n",
       "\n",
       "    .dataframe tbody tr th {\n",
       "        vertical-align: top;\n",
       "    }\n",
       "\n",
       "    .dataframe thead th {\n",
       "        text-align: right;\n",
       "    }\n",
       "</style>\n",
       "<table border=\"1\" class=\"dataframe\">\n",
       "  <thead>\n",
       "    <tr style=\"text-align: right;\">\n",
       "      <th></th>\n",
       "      <th>YearsFromRegistration</th>\n",
       "      <th>powerPS</th>\n",
       "      <th>kilometer</th>\n",
       "      <th>abtest_test</th>\n",
       "      <th>vehicleType_cabrio</th>\n",
       "      <th>vehicleType_coupe</th>\n",
       "      <th>vehicleType_limousine</th>\n",
       "      <th>vehicleType_others</th>\n",
       "      <th>vehicleType_small car</th>\n",
       "      <th>vehicleType_station wagon</th>\n",
       "      <th>...</th>\n",
       "      <th>fuelType_lpg</th>\n",
       "      <th>fuelType_other</th>\n",
       "      <th>fuelType_petrol</th>\n",
       "      <th>gearbox_manual</th>\n",
       "      <th>notRepairedDamage_yes</th>\n",
       "      <th>brand_encoded</th>\n",
       "      <th>monthOfRegistration_Q2</th>\n",
       "      <th>monthOfRegistration_Q3</th>\n",
       "      <th>monthOfRegistration_Q4</th>\n",
       "      <th>price</th>\n",
       "    </tr>\n",
       "  </thead>\n",
       "  <tbody>\n",
       "    <tr>\n",
       "      <th>0</th>\n",
       "      <td>20</td>\n",
       "      <td>150</td>\n",
       "      <td>150000</td>\n",
       "      <td>1</td>\n",
       "      <td>0</td>\n",
       "      <td>0</td>\n",
       "      <td>1</td>\n",
       "      <td>0</td>\n",
       "      <td>0</td>\n",
       "      <td>0</td>\n",
       "      <td>...</td>\n",
       "      <td>0</td>\n",
       "      <td>0</td>\n",
       "      <td>0</td>\n",
       "      <td>1</td>\n",
       "      <td>0</td>\n",
       "      <td>2</td>\n",
       "      <td>0</td>\n",
       "      <td>0</td>\n",
       "      <td>0</td>\n",
       "      <td>4450</td>\n",
       "    </tr>\n",
       "    <tr>\n",
       "      <th>1</th>\n",
       "      <td>18</td>\n",
       "      <td>163</td>\n",
       "      <td>150000</td>\n",
       "      <td>0</td>\n",
       "      <td>0</td>\n",
       "      <td>0</td>\n",
       "      <td>0</td>\n",
       "      <td>0</td>\n",
       "      <td>0</td>\n",
       "      <td>0</td>\n",
       "      <td>...</td>\n",
       "      <td>0</td>\n",
       "      <td>0</td>\n",
       "      <td>0</td>\n",
       "      <td>1</td>\n",
       "      <td>0</td>\n",
       "      <td>39</td>\n",
       "      <td>1</td>\n",
       "      <td>0</td>\n",
       "      <td>0</td>\n",
       "      <td>13299</td>\n",
       "    </tr>\n",
       "    <tr>\n",
       "      <th>2</th>\n",
       "      <td>20</td>\n",
       "      <td>101</td>\n",
       "      <td>150000</td>\n",
       "      <td>1</td>\n",
       "      <td>0</td>\n",
       "      <td>0</td>\n",
       "      <td>0</td>\n",
       "      <td>0</td>\n",
       "      <td>0</td>\n",
       "      <td>0</td>\n",
       "      <td>...</td>\n",
       "      <td>0</td>\n",
       "      <td>0</td>\n",
       "      <td>0</td>\n",
       "      <td>1</td>\n",
       "      <td>0</td>\n",
       "      <td>38</td>\n",
       "      <td>0</td>\n",
       "      <td>0</td>\n",
       "      <td>1</td>\n",
       "      <td>3200</td>\n",
       "    </tr>\n",
       "    <tr>\n",
       "      <th>3</th>\n",
       "      <td>17</td>\n",
       "      <td>86</td>\n",
       "      <td>60000</td>\n",
       "      <td>0</td>\n",
       "      <td>0</td>\n",
       "      <td>0</td>\n",
       "      <td>0</td>\n",
       "      <td>0</td>\n",
       "      <td>1</td>\n",
       "      <td>0</td>\n",
       "      <td>...</td>\n",
       "      <td>0</td>\n",
       "      <td>0</td>\n",
       "      <td>1</td>\n",
       "      <td>1</td>\n",
       "      <td>0</td>\n",
       "      <td>30</td>\n",
       "      <td>0</td>\n",
       "      <td>0</td>\n",
       "      <td>1</td>\n",
       "      <td>4500</td>\n",
       "    </tr>\n",
       "    <tr>\n",
       "      <th>4</th>\n",
       "      <td>15</td>\n",
       "      <td>185</td>\n",
       "      <td>150000</td>\n",
       "      <td>1</td>\n",
       "      <td>0</td>\n",
       "      <td>0</td>\n",
       "      <td>0</td>\n",
       "      <td>0</td>\n",
       "      <td>0</td>\n",
       "      <td>0</td>\n",
       "      <td>...</td>\n",
       "      <td>0</td>\n",
       "      <td>0</td>\n",
       "      <td>0</td>\n",
       "      <td>0</td>\n",
       "      <td>0</td>\n",
       "      <td>39</td>\n",
       "      <td>0</td>\n",
       "      <td>0</td>\n",
       "      <td>1</td>\n",
       "      <td>18750</td>\n",
       "    </tr>\n",
       "  </tbody>\n",
       "</table>\n",
       "<p>5 rows × 24 columns</p>\n",
       "</div>"
      ],
      "text/plain": [
       "   YearsFromRegistration  powerPS  kilometer  abtest_test  vehicleType_cabrio  \\\n",
       "0                     20      150     150000            1                   0   \n",
       "1                     18      163     150000            0                   0   \n",
       "2                     20      101     150000            1                   0   \n",
       "3                     17       86      60000            0                   0   \n",
       "4                     15      185     150000            1                   0   \n",
       "\n",
       "   vehicleType_coupe  vehicleType_limousine  vehicleType_others  \\\n",
       "0                  0                      1                   0   \n",
       "1                  0                      0                   0   \n",
       "2                  0                      0                   0   \n",
       "3                  0                      0                   0   \n",
       "4                  0                      0                   0   \n",
       "\n",
       "   vehicleType_small car  vehicleType_station wagon  ...  fuelType_lpg  \\\n",
       "0                      0                          0  ...             0   \n",
       "1                      0                          0  ...             0   \n",
       "2                      0                          0  ...             0   \n",
       "3                      1                          0  ...             0   \n",
       "4                      0                          0  ...             0   \n",
       "\n",
       "   fuelType_other  fuelType_petrol  gearbox_manual  notRepairedDamage_yes  \\\n",
       "0               0                0               1                      0   \n",
       "1               0                0               1                      0   \n",
       "2               0                0               1                      0   \n",
       "3               0                1               1                      0   \n",
       "4               0                0               0                      0   \n",
       "\n",
       "   brand_encoded  monthOfRegistration_Q2  monthOfRegistration_Q3  \\\n",
       "0              2                       0                       0   \n",
       "1             39                       1                       0   \n",
       "2             38                       0                       0   \n",
       "3             30                       0                       0   \n",
       "4             39                       0                       0   \n",
       "\n",
       "   monthOfRegistration_Q4  price  \n",
       "0                       0   4450  \n",
       "1                       0  13299  \n",
       "2                       1   3200  \n",
       "3                       1   4500  \n",
       "4                       1  18750  \n",
       "\n",
       "[5 rows x 24 columns]"
      ]
     },
     "execution_count": 30,
     "metadata": {},
     "output_type": "execute_result"
    }
   ],
   "source": [
    "# Reading the dataset\n",
    "df = pd.read_csv(\"Data_to_ModelBuilding.csv\")\n",
    "\n",
    "# Display the first few rows of the dataset\n",
    "df.head()"
   ]
  },
  {
   "cell_type": "code",
   "execution_count": 31,
   "id": "f091381f",
   "metadata": {},
   "outputs": [],
   "source": [
    "X = df.copy()\n",
    "# Remove target\n",
    "y = X.pop('price')"
   ]
  },
  {
   "cell_type": "code",
   "execution_count": 32,
   "id": "5f2992d6",
   "metadata": {},
   "outputs": [],
   "source": [
    "from sklearn.model_selection import train_test_split\n",
    "\n",
    "X_train, X_test, y_train, y_test = train_test_split(X,y,test_size=0.3,random_state=42)"
   ]
  },
  {
   "cell_type": "code",
   "execution_count": 33,
   "id": "a7e80058",
   "metadata": {},
   "outputs": [],
   "source": [
    "from sklearn.preprocessing import MinMaxScaler\n",
    "scaler = MinMaxScaler()\n",
    "X_train= pd.DataFrame(scaler.fit_transform(X_train), columns=X.columns)  \n",
    "X_test = pd.DataFrame(scaler.transform(X_test), columns=X.columns)"
   ]
  },
  {
   "cell_type": "code",
   "execution_count": 34,
   "id": "80f1bbd9",
   "metadata": {},
   "outputs": [
    {
     "data": {
      "text/plain": [
       "((30852, 23), (13223, 23))"
      ]
     },
     "execution_count": 34,
     "metadata": {},
     "output_type": "execute_result"
    }
   ],
   "source": [
    "X_train.shape, X_test.shape"
   ]
  },
  {
   "cell_type": "code",
   "execution_count": 35,
   "id": "25e551db",
   "metadata": {},
   "outputs": [
    {
     "data": {
      "text/plain": [
       "((30852,), (13223,))"
      ]
     },
     "execution_count": 35,
     "metadata": {},
     "output_type": "execute_result"
    }
   ],
   "source": [
    "y_train.shape , y_test.shape"
   ]
  },
  {
   "cell_type": "code",
   "execution_count": 36,
   "id": "c4570997",
   "metadata": {},
   "outputs": [
    {
     "data": {
      "text/html": [
       "<div>\n",
       "<style scoped>\n",
       "    .dataframe tbody tr th:only-of-type {\n",
       "        vertical-align: middle;\n",
       "    }\n",
       "\n",
       "    .dataframe tbody tr th {\n",
       "        vertical-align: top;\n",
       "    }\n",
       "\n",
       "    .dataframe thead th {\n",
       "        text-align: right;\n",
       "    }\n",
       "</style>\n",
       "<table border=\"1\" class=\"dataframe\">\n",
       "  <thead>\n",
       "    <tr style=\"text-align: right;\">\n",
       "      <th></th>\n",
       "      <th>YearsFromRegistration</th>\n",
       "      <th>powerPS</th>\n",
       "      <th>kilometer</th>\n",
       "      <th>abtest_test</th>\n",
       "      <th>vehicleType_cabrio</th>\n",
       "      <th>vehicleType_coupe</th>\n",
       "      <th>vehicleType_limousine</th>\n",
       "      <th>vehicleType_others</th>\n",
       "      <th>vehicleType_small car</th>\n",
       "      <th>vehicleType_station wagon</th>\n",
       "      <th>...</th>\n",
       "      <th>fuelType_hybrid</th>\n",
       "      <th>fuelType_lpg</th>\n",
       "      <th>fuelType_other</th>\n",
       "      <th>fuelType_petrol</th>\n",
       "      <th>gearbox_manual</th>\n",
       "      <th>notRepairedDamage_yes</th>\n",
       "      <th>brand_encoded</th>\n",
       "      <th>monthOfRegistration_Q2</th>\n",
       "      <th>monthOfRegistration_Q3</th>\n",
       "      <th>monthOfRegistration_Q4</th>\n",
       "    </tr>\n",
       "  </thead>\n",
       "  <tbody>\n",
       "    <tr>\n",
       "      <th>0</th>\n",
       "      <td>0.166667</td>\n",
       "      <td>0.021923</td>\n",
       "      <td>0.827586</td>\n",
       "      <td>0.0</td>\n",
       "      <td>0.0</td>\n",
       "      <td>0.0</td>\n",
       "      <td>0.0</td>\n",
       "      <td>0.0</td>\n",
       "      <td>1.0</td>\n",
       "      <td>0.0</td>\n",
       "      <td>...</td>\n",
       "      <td>0.0</td>\n",
       "      <td>0.0</td>\n",
       "      <td>0.0</td>\n",
       "      <td>1.0</td>\n",
       "      <td>1.0</td>\n",
       "      <td>0.0</td>\n",
       "      <td>0.974359</td>\n",
       "      <td>0.0</td>\n",
       "      <td>0.0</td>\n",
       "      <td>1.0</td>\n",
       "    </tr>\n",
       "    <tr>\n",
       "      <th>1</th>\n",
       "      <td>0.133333</td>\n",
       "      <td>0.059292</td>\n",
       "      <td>1.000000</td>\n",
       "      <td>1.0</td>\n",
       "      <td>0.0</td>\n",
       "      <td>0.0</td>\n",
       "      <td>0.0</td>\n",
       "      <td>0.0</td>\n",
       "      <td>0.0</td>\n",
       "      <td>0.0</td>\n",
       "      <td>...</td>\n",
       "      <td>0.0</td>\n",
       "      <td>0.0</td>\n",
       "      <td>0.0</td>\n",
       "      <td>0.0</td>\n",
       "      <td>1.0</td>\n",
       "      <td>0.0</td>\n",
       "      <td>0.512821</td>\n",
       "      <td>0.0</td>\n",
       "      <td>0.0</td>\n",
       "      <td>1.0</td>\n",
       "    </tr>\n",
       "    <tr>\n",
       "      <th>2</th>\n",
       "      <td>0.211111</td>\n",
       "      <td>0.103637</td>\n",
       "      <td>1.000000</td>\n",
       "      <td>0.0</td>\n",
       "      <td>1.0</td>\n",
       "      <td>0.0</td>\n",
       "      <td>0.0</td>\n",
       "      <td>0.0</td>\n",
       "      <td>0.0</td>\n",
       "      <td>0.0</td>\n",
       "      <td>...</td>\n",
       "      <td>0.0</td>\n",
       "      <td>0.0</td>\n",
       "      <td>0.0</td>\n",
       "      <td>1.0</td>\n",
       "      <td>0.0</td>\n",
       "      <td>0.0</td>\n",
       "      <td>0.512821</td>\n",
       "      <td>1.0</td>\n",
       "      <td>0.0</td>\n",
       "      <td>0.0</td>\n",
       "    </tr>\n",
       "    <tr>\n",
       "      <th>3</th>\n",
       "      <td>0.211111</td>\n",
       "      <td>0.032387</td>\n",
       "      <td>1.000000</td>\n",
       "      <td>0.0</td>\n",
       "      <td>0.0</td>\n",
       "      <td>0.0</td>\n",
       "      <td>0.0</td>\n",
       "      <td>0.0</td>\n",
       "      <td>1.0</td>\n",
       "      <td>0.0</td>\n",
       "      <td>...</td>\n",
       "      <td>0.0</td>\n",
       "      <td>0.0</td>\n",
       "      <td>0.0</td>\n",
       "      <td>1.0</td>\n",
       "      <td>1.0</td>\n",
       "      <td>0.0</td>\n",
       "      <td>0.025641</td>\n",
       "      <td>0.0</td>\n",
       "      <td>1.0</td>\n",
       "      <td>0.0</td>\n",
       "    </tr>\n",
       "    <tr>\n",
       "      <th>4</th>\n",
       "      <td>0.233333</td>\n",
       "      <td>0.027404</td>\n",
       "      <td>1.000000</td>\n",
       "      <td>1.0</td>\n",
       "      <td>0.0</td>\n",
       "      <td>0.0</td>\n",
       "      <td>0.0</td>\n",
       "      <td>0.0</td>\n",
       "      <td>1.0</td>\n",
       "      <td>0.0</td>\n",
       "      <td>...</td>\n",
       "      <td>0.0</td>\n",
       "      <td>0.0</td>\n",
       "      <td>0.0</td>\n",
       "      <td>1.0</td>\n",
       "      <td>1.0</td>\n",
       "      <td>0.0</td>\n",
       "      <td>0.615385</td>\n",
       "      <td>0.0</td>\n",
       "      <td>1.0</td>\n",
       "      <td>0.0</td>\n",
       "    </tr>\n",
       "  </tbody>\n",
       "</table>\n",
       "<p>5 rows × 23 columns</p>\n",
       "</div>"
      ],
      "text/plain": [
       "   YearsFromRegistration   powerPS  kilometer  abtest_test  \\\n",
       "0               0.166667  0.021923   0.827586          0.0   \n",
       "1               0.133333  0.059292   1.000000          1.0   \n",
       "2               0.211111  0.103637   1.000000          0.0   \n",
       "3               0.211111  0.032387   1.000000          0.0   \n",
       "4               0.233333  0.027404   1.000000          1.0   \n",
       "\n",
       "   vehicleType_cabrio  vehicleType_coupe  vehicleType_limousine  \\\n",
       "0                 0.0                0.0                    0.0   \n",
       "1                 0.0                0.0                    0.0   \n",
       "2                 1.0                0.0                    0.0   \n",
       "3                 0.0                0.0                    0.0   \n",
       "4                 0.0                0.0                    0.0   \n",
       "\n",
       "   vehicleType_others  vehicleType_small car  vehicleType_station wagon  ...  \\\n",
       "0                 0.0                    1.0                        0.0  ...   \n",
       "1                 0.0                    0.0                        0.0  ...   \n",
       "2                 0.0                    0.0                        0.0  ...   \n",
       "3                 0.0                    1.0                        0.0  ...   \n",
       "4                 0.0                    1.0                        0.0  ...   \n",
       "\n",
       "   fuelType_hybrid  fuelType_lpg  fuelType_other  fuelType_petrol  \\\n",
       "0              0.0           0.0             0.0              1.0   \n",
       "1              0.0           0.0             0.0              0.0   \n",
       "2              0.0           0.0             0.0              1.0   \n",
       "3              0.0           0.0             0.0              1.0   \n",
       "4              0.0           0.0             0.0              1.0   \n",
       "\n",
       "   gearbox_manual  notRepairedDamage_yes  brand_encoded  \\\n",
       "0             1.0                    0.0       0.974359   \n",
       "1             1.0                    0.0       0.512821   \n",
       "2             0.0                    0.0       0.512821   \n",
       "3             1.0                    0.0       0.025641   \n",
       "4             1.0                    0.0       0.615385   \n",
       "\n",
       "   monthOfRegistration_Q2  monthOfRegistration_Q3  monthOfRegistration_Q4  \n",
       "0                     0.0                     0.0                     1.0  \n",
       "1                     0.0                     0.0                     1.0  \n",
       "2                     1.0                     0.0                     0.0  \n",
       "3                     0.0                     1.0                     0.0  \n",
       "4                     0.0                     1.0                     0.0  \n",
       "\n",
       "[5 rows x 23 columns]"
      ]
     },
     "execution_count": 36,
     "metadata": {},
     "output_type": "execute_result"
    }
   ],
   "source": [
    "X_train.head()"
   ]
  },
  {
   "cell_type": "code",
   "execution_count": 37,
   "id": "bf9398d7",
   "metadata": {},
   "outputs": [
    {
     "data": {
      "text/plain": [
       "34921    2950\n",
       "33036    6300\n",
       "25839    7499\n",
       "3448     2500\n",
       "20701     950\n",
       "Name: price, dtype: int64"
      ]
     },
     "execution_count": 37,
     "metadata": {},
     "output_type": "execute_result"
    }
   ],
   "source": [
    "y_train.head()"
   ]
  },
  {
   "cell_type": "code",
   "execution_count": 38,
   "id": "fc9fd431",
   "metadata": {},
   "outputs": [],
   "source": [
    "from tensorflow.keras.models import Sequential\n",
    "from tensorflow.keras.layers import Dense, Activation\n",
    "from tensorflow.keras.optimizers import Adam"
   ]
  },
  {
   "cell_type": "code",
   "execution_count": 39,
   "id": "7f6309db",
   "metadata": {},
   "outputs": [],
   "source": [
    "model = Sequential()\n",
    "\n",
    "model.add(Dense(64, activation='relu'))\n",
    "model.add(Dense(64, activation='relu'))\n",
    "model.add(Dense(64, activation='relu'))\n",
    "model.add(Dense(64, activation='relu'))\n",
    "model.add(Dense(1))\n",
    "\n",
    "model.compile(optimizer='Adam', loss='mse')"
   ]
  },
  {
   "cell_type": "markdown",
   "id": "90bdd5b9",
   "metadata": {},
   "source": [
    "## Training the Model"
   ]
  },
  {
   "cell_type": "code",
   "execution_count": 40,
   "id": "1e1c9df7",
   "metadata": {},
   "outputs": [
    {
     "name": "stdout",
     "output_type": "stream",
     "text": [
      "Epoch 1/100\n",
      "242/242 [==============================] - 2s 5ms/step - loss: 78103208.0000 - val_loss: 60090628.0000\n",
      "Epoch 2/100\n",
      "242/242 [==============================] - 1s 3ms/step - loss: 48273476.0000 - val_loss: 39208336.0000\n",
      "Epoch 3/100\n",
      "242/242 [==============================] - 1s 3ms/step - loss: 33120144.0000 - val_loss: 30352798.0000\n",
      "Epoch 4/100\n",
      "242/242 [==============================] - 1s 3ms/step - loss: 28690136.0000 - val_loss: 28139018.0000\n",
      "Epoch 5/100\n",
      "242/242 [==============================] - 1s 3ms/step - loss: 27313922.0000 - val_loss: 26891642.0000\n",
      "Epoch 6/100\n",
      "242/242 [==============================] - 1s 3ms/step - loss: 26485244.0000 - val_loss: 26088002.0000\n",
      "Epoch 7/100\n",
      "242/242 [==============================] - 1s 3ms/step - loss: 25773306.0000 - val_loss: 25360552.0000\n",
      "Epoch 8/100\n",
      "242/242 [==============================] - 1s 3ms/step - loss: 25280546.0000 - val_loss: 24736936.0000\n",
      "Epoch 9/100\n",
      "242/242 [==============================] - 1s 3ms/step - loss: 24801172.0000 - val_loss: 24180154.0000\n",
      "Epoch 10/100\n",
      "242/242 [==============================] - 1s 3ms/step - loss: 24423734.0000 - val_loss: 23592236.0000\n",
      "Epoch 11/100\n",
      "242/242 [==============================] - 1s 3ms/step - loss: 24124222.0000 - val_loss: 23344356.0000\n",
      "Epoch 12/100\n",
      "242/242 [==============================] - 1s 3ms/step - loss: 23919000.0000 - val_loss: 22961222.0000\n",
      "Epoch 13/100\n",
      "242/242 [==============================] - 1s 3ms/step - loss: 23638638.0000 - val_loss: 22644546.0000\n",
      "Epoch 14/100\n",
      "242/242 [==============================] - 1s 3ms/step - loss: 23449390.0000 - val_loss: 22358554.0000\n",
      "Epoch 15/100\n",
      "242/242 [==============================] - 1s 3ms/step - loss: 23196142.0000 - val_loss: 22198710.0000\n",
      "Epoch 16/100\n",
      "242/242 [==============================] - 1s 3ms/step - loss: 23060230.0000 - val_loss: 21743852.0000\n",
      "Epoch 17/100\n",
      "242/242 [==============================] - 1s 4ms/step - loss: 22774236.0000 - val_loss: 21748334.0000\n",
      "Epoch 18/100\n",
      "242/242 [==============================] - 1s 3ms/step - loss: 22562310.0000 - val_loss: 21793074.0000\n",
      "Epoch 19/100\n",
      "242/242 [==============================] - 1s 3ms/step - loss: 22436892.0000 - val_loss: 21111216.0000\n",
      "Epoch 20/100\n",
      "242/242 [==============================] - 1s 3ms/step - loss: 22175830.0000 - val_loss: 20882970.0000\n",
      "Epoch 21/100\n",
      "242/242 [==============================] - 1s 3ms/step - loss: 21954362.0000 - val_loss: 20657048.0000\n",
      "Epoch 22/100\n",
      "242/242 [==============================] - 1s 3ms/step - loss: 21790206.0000 - val_loss: 20537122.0000\n",
      "Epoch 23/100\n",
      "242/242 [==============================] - 1s 3ms/step - loss: 21595932.0000 - val_loss: 20326372.0000\n",
      "Epoch 24/100\n",
      "242/242 [==============================] - 1s 4ms/step - loss: 21376166.0000 - val_loss: 20058840.0000\n",
      "Epoch 25/100\n",
      "242/242 [==============================] - 1s 4ms/step - loss: 21138328.0000 - val_loss: 19858342.0000\n",
      "Epoch 26/100\n",
      "242/242 [==============================] - 1s 4ms/step - loss: 20951146.0000 - val_loss: 19716492.0000\n",
      "Epoch 27/100\n",
      "242/242 [==============================] - 1s 3ms/step - loss: 20827632.0000 - val_loss: 19739476.0000\n",
      "Epoch 28/100\n",
      "242/242 [==============================] - 1s 3ms/step - loss: 20534596.0000 - val_loss: 19214680.0000\n",
      "Epoch 29/100\n",
      "242/242 [==============================] - 1s 3ms/step - loss: 20326248.0000 - val_loss: 19292444.0000\n",
      "Epoch 30/100\n",
      "242/242 [==============================] - 1s 3ms/step - loss: 20076782.0000 - val_loss: 18738244.0000\n",
      "Epoch 31/100\n",
      "242/242 [==============================] - 1s 4ms/step - loss: 19863502.0000 - val_loss: 18708904.0000\n",
      "Epoch 32/100\n",
      "242/242 [==============================] - 1s 4ms/step - loss: 19724030.0000 - val_loss: 18689022.0000\n",
      "Epoch 33/100\n",
      "242/242 [==============================] - 1s 3ms/step - loss: 19489366.0000 - val_loss: 18369864.0000\n",
      "Epoch 34/100\n",
      "242/242 [==============================] - 1s 3ms/step - loss: 19372980.0000 - val_loss: 18127206.0000\n",
      "Epoch 35/100\n",
      "242/242 [==============================] - 1s 4ms/step - loss: 19087528.0000 - val_loss: 18338092.0000\n",
      "Epoch 36/100\n",
      "242/242 [==============================] - 1s 4ms/step - loss: 18957584.0000 - val_loss: 17879236.0000\n",
      "Epoch 37/100\n",
      "242/242 [==============================] - 1s 3ms/step - loss: 18715980.0000 - val_loss: 17646300.0000\n",
      "Epoch 38/100\n",
      "242/242 [==============================] - 1s 4ms/step - loss: 18542980.0000 - val_loss: 17692798.0000\n",
      "Epoch 39/100\n",
      "242/242 [==============================] - 1s 3ms/step - loss: 18348102.0000 - val_loss: 17506204.0000\n",
      "Epoch 40/100\n",
      "242/242 [==============================] - 1s 3ms/step - loss: 18113792.0000 - val_loss: 17368796.0000\n",
      "Epoch 41/100\n",
      "242/242 [==============================] - 1s 3ms/step - loss: 17974076.0000 - val_loss: 16997954.0000\n",
      "Epoch 42/100\n",
      "242/242 [==============================] - 1s 3ms/step - loss: 17713642.0000 - val_loss: 16844550.0000\n",
      "Epoch 43/100\n",
      "242/242 [==============================] - 1s 4ms/step - loss: 17543732.0000 - val_loss: 16595775.0000\n",
      "Epoch 44/100\n",
      "242/242 [==============================] - 1s 3ms/step - loss: 17336944.0000 - val_loss: 16617104.0000\n",
      "Epoch 45/100\n",
      "242/242 [==============================] - 1s 3ms/step - loss: 17145024.0000 - val_loss: 16516258.0000\n",
      "Epoch 46/100\n",
      "242/242 [==============================] - 1s 3ms/step - loss: 16913088.0000 - val_loss: 16398382.0000\n",
      "Epoch 47/100\n",
      "242/242 [==============================] - 1s 4ms/step - loss: 16775501.0000 - val_loss: 16081854.0000\n",
      "Epoch 48/100\n",
      "242/242 [==============================] - 1s 4ms/step - loss: 16562666.0000 - val_loss: 16425196.0000\n",
      "Epoch 49/100\n",
      "242/242 [==============================] - 1s 3ms/step - loss: 16409465.0000 - val_loss: 15718597.0000\n",
      "Epoch 50/100\n",
      "242/242 [==============================] - 1s 4ms/step - loss: 16142050.0000 - val_loss: 15939586.0000\n",
      "Epoch 51/100\n",
      "242/242 [==============================] - 1s 3ms/step - loss: 16066570.0000 - val_loss: 15532492.0000\n",
      "Epoch 52/100\n",
      "242/242 [==============================] - 1s 4ms/step - loss: 15850134.0000 - val_loss: 15390744.0000\n",
      "Epoch 53/100\n",
      "242/242 [==============================] - 1s 4ms/step - loss: 15717593.0000 - val_loss: 16044792.0000\n",
      "Epoch 54/100\n",
      "242/242 [==============================] - 1s 3ms/step - loss: 15572192.0000 - val_loss: 15300302.0000\n",
      "Epoch 55/100\n",
      "242/242 [==============================] - 1s 4ms/step - loss: 15380595.0000 - val_loss: 15855805.0000\n",
      "Epoch 56/100\n",
      "242/242 [==============================] - 1s 3ms/step - loss: 15342572.0000 - val_loss: 16733590.0000\n",
      "Epoch 57/100\n",
      "242/242 [==============================] - 1s 3ms/step - loss: 15153154.0000 - val_loss: 15860838.0000\n",
      "Epoch 58/100\n",
      "242/242 [==============================] - 1s 3ms/step - loss: 15096602.0000 - val_loss: 15140703.0000\n",
      "Epoch 59/100\n",
      "242/242 [==============================] - 1s 3ms/step - loss: 14827945.0000 - val_loss: 14971265.0000\n",
      "Epoch 60/100\n",
      "242/242 [==============================] - 1s 3ms/step - loss: 14820102.0000 - val_loss: 14847806.0000\n",
      "Epoch 61/100\n",
      "242/242 [==============================] - 1s 4ms/step - loss: 14733598.0000 - val_loss: 15182581.0000\n",
      "Epoch 62/100\n",
      "242/242 [==============================] - 1s 4ms/step - loss: 14668052.0000 - val_loss: 15045543.0000\n",
      "Epoch 63/100\n",
      "242/242 [==============================] - 1s 3ms/step - loss: 14543529.0000 - val_loss: 14830107.0000\n",
      "Epoch 64/100\n",
      "242/242 [==============================] - 1s 3ms/step - loss: 14575647.0000 - val_loss: 16004385.0000\n",
      "Epoch 65/100\n",
      "242/242 [==============================] - 1s 4ms/step - loss: 15383995.0000 - val_loss: 14743922.0000\n",
      "Epoch 66/100\n",
      "242/242 [==============================] - 1s 3ms/step - loss: 14330388.0000 - val_loss: 14742842.0000\n",
      "Epoch 67/100\n",
      "242/242 [==============================] - 1s 3ms/step - loss: 14215552.0000 - val_loss: 15243888.0000\n",
      "Epoch 68/100\n",
      "242/242 [==============================] - 1s 4ms/step - loss: 14153677.0000 - val_loss: 14549903.0000\n",
      "Epoch 69/100\n",
      "242/242 [==============================] - 1s 4ms/step - loss: 14028702.0000 - val_loss: 14689426.0000\n",
      "Epoch 70/100\n",
      "242/242 [==============================] - 1s 3ms/step - loss: 14060210.0000 - val_loss: 14646612.0000\n",
      "Epoch 71/100\n",
      "242/242 [==============================] - 1s 4ms/step - loss: 14008439.0000 - val_loss: 14582272.0000\n",
      "Epoch 72/100\n",
      "242/242 [==============================] - 1s 3ms/step - loss: 13940859.0000 - val_loss: 14232486.0000\n",
      "Epoch 73/100\n",
      "242/242 [==============================] - 1s 3ms/step - loss: 13863427.0000 - val_loss: 14338336.0000\n",
      "Epoch 74/100\n",
      "242/242 [==============================] - 1s 4ms/step - loss: 13822502.0000 - val_loss: 14225567.0000\n",
      "Epoch 75/100\n",
      "242/242 [==============================] - 1s 4ms/step - loss: 13771402.0000 - val_loss: 14179464.0000\n",
      "Epoch 76/100\n",
      "242/242 [==============================] - 1s 4ms/step - loss: 13743284.0000 - val_loss: 14484788.0000\n",
      "Epoch 77/100\n",
      "242/242 [==============================] - 1s 5ms/step - loss: 13690446.0000 - val_loss: 14157977.0000\n",
      "Epoch 78/100\n",
      "242/242 [==============================] - 1s 5ms/step - loss: 13679693.0000 - val_loss: 14298605.0000\n",
      "Epoch 79/100\n",
      "242/242 [==============================] - 1s 5ms/step - loss: 13530213.0000 - val_loss: 14267809.0000\n",
      "Epoch 80/100\n",
      "242/242 [==============================] - 1s 5ms/step - loss: 13518363.0000 - val_loss: 14147113.0000\n",
      "Epoch 81/100\n",
      "242/242 [==============================] - 1s 5ms/step - loss: 13518842.0000 - val_loss: 14067920.0000\n",
      "Epoch 82/100\n",
      "242/242 [==============================] - 1s 4ms/step - loss: 13440435.0000 - val_loss: 14155266.0000\n",
      "Epoch 83/100\n",
      "242/242 [==============================] - 1s 3ms/step - loss: 13425127.0000 - val_loss: 15536555.0000\n",
      "Epoch 84/100\n",
      "242/242 [==============================] - 1s 3ms/step - loss: 13651193.0000 - val_loss: 13976212.0000\n",
      "Epoch 85/100\n",
      "242/242 [==============================] - 1s 4ms/step - loss: 13241659.0000 - val_loss: 13865607.0000\n",
      "Epoch 86/100\n",
      "242/242 [==============================] - 1s 4ms/step - loss: 13186638.0000 - val_loss: 14031324.0000\n",
      "Epoch 87/100\n",
      "242/242 [==============================] - 1s 4ms/step - loss: 13948172.0000 - val_loss: 14163928.0000\n",
      "Epoch 88/100\n",
      "242/242 [==============================] - 1s 3ms/step - loss: 13199018.0000 - val_loss: 14107255.0000\n",
      "Epoch 89/100\n",
      "242/242 [==============================] - 1s 3ms/step - loss: 13154615.0000 - val_loss: 13766722.0000\n",
      "Epoch 90/100\n",
      "242/242 [==============================] - 1s 3ms/step - loss: 13045830.0000 - val_loss: 13918499.0000\n",
      "Epoch 91/100\n",
      "242/242 [==============================] - 1s 3ms/step - loss: 13052157.0000 - val_loss: 13749302.0000\n",
      "Epoch 92/100\n",
      "242/242 [==============================] - 1s 3ms/step - loss: 12965635.0000 - val_loss: 14020331.0000\n",
      "Epoch 93/100\n",
      "242/242 [==============================] - 1s 3ms/step - loss: 12925149.0000 - val_loss: 13853365.0000\n",
      "Epoch 94/100\n",
      "242/242 [==============================] - 1s 4ms/step - loss: 12981664.0000 - val_loss: 13885500.0000\n",
      "Epoch 95/100\n",
      "242/242 [==============================] - 1s 3ms/step - loss: 13042202.0000 - val_loss: 13858139.0000\n",
      "Epoch 96/100\n",
      "242/242 [==============================] - 1s 3ms/step - loss: 12781689.0000 - val_loss: 13648947.0000\n",
      "Epoch 97/100\n",
      "242/242 [==============================] - 1s 3ms/step - loss: 13038713.0000 - val_loss: 13841277.0000\n",
      "Epoch 98/100\n",
      "242/242 [==============================] - 1s 3ms/step - loss: 12754801.0000 - val_loss: 13906104.0000\n",
      "Epoch 99/100\n",
      "242/242 [==============================] - 1s 3ms/step - loss: 12665315.0000 - val_loss: 14008702.0000\n",
      "Epoch 100/100\n",
      "242/242 [==============================] - 1s 3ms/step - loss: 12683594.0000 - val_loss: 13649016.0000\n",
      "Training time: 87.60000562667847 seconds\n"
     ]
    }
   ],
   "source": [
    "import time\n",
    "\n",
    "start_time = time.time()\n",
    "\n",
    "history = model.fit(x=X_train, y=y_train.values,\n",
    "                    validation_data=(X_test, y_test.values),\n",
    "                    batch_size=128, epochs=100)\n",
    "\n",
    "end_time = time.time()\n",
    "\n",
    "training_time = end_time - start_time\n",
    "print(f\"Training time: {training_time} seconds\")"
   ]
  },
  {
   "cell_type": "code",
   "execution_count": 41,
   "id": "50955020",
   "metadata": {},
   "outputs": [],
   "source": [
    "losses = pd.DataFrame(model.history.history)"
   ]
  },
  {
   "cell_type": "code",
   "execution_count": 42,
   "id": "7a27ad08",
   "metadata": {},
   "outputs": [
    {
     "data": {
      "text/plain": [
       "<AxesSubplot:>"
      ]
     },
     "execution_count": 42,
     "metadata": {},
     "output_type": "execute_result"
    },
    {
     "data": {
      "image/png": "[encoded data removed]",
      "text/plain": [
       "<Figure size 432x288 with 1 Axes>"
      ]
     },
     "metadata": {
      "needs_background": "light"
     },
     "output_type": "display_data"
    }
   ],
   "source": [
    "losses.plot()"
   ]
  },
  {
   "cell_type": "markdown",
   "id": "e593bb84",
   "metadata": {},
   "source": [
    "## Evaluation on Test Data\n",
    "\n",
    "https://scikit-learn.org/stable/modules/model_evaluation.html#regression-metrics"
   ]
  },
  {
   "cell_type": "code",
   "execution_count": 43,
   "id": "a4704eaa",
   "metadata": {},
   "outputs": [],
   "source": [
    "from sklearn.metrics import mean_squared_error,mean_absolute_error,explained_variance_score\n",
    "from sklearn.metrics import r2_score"
   ]
  },
  {
   "cell_type": "code",
   "execution_count": 44,
   "id": "4e50ff8f",
   "metadata": {},
   "outputs": [
    {
     "name": "stdout",
     "output_type": "stream",
     "text": [
      "965/965 [==============================] - 2s 2ms/step\n",
      "Training R2 Score: 0.7922226855530702\n",
      "414/414 [==============================] - 1s 2ms/step\n",
      "Test R2 Score: 0.7797022550504293\n"
     ]
    }
   ],
   "source": [
    "# Evaluate on Training Set\n",
    "train_predictions = model.predict(X_train)\n",
    "train_accuracy = r2_score(y_train, train_predictions)\n",
    "print(f'Training R2 Score: {train_accuracy}')\n",
    "\n",
    "# Evaluate on Test Set\n",
    "test_predictions = model.predict(X_test)\n",
    "test_accuracy = r2_score(y_test, test_predictions)\n",
    "print(f'Test R2 Score: {test_accuracy}')"
   ]
  },
  {
   "cell_type": "markdown",
   "id": "c706535e",
   "metadata": {},
   "source": [
    "### Predicting on Brand New Data"
   ]
  },
  {
   "cell_type": "code",
   "execution_count": 45,
   "id": "81f161f2",
   "metadata": {},
   "outputs": [
    {
     "name": "stdout",
     "output_type": "stream",
     "text": [
      "414/414 [==============================] - 1s 2ms/step\n"
     ]
    }
   ],
   "source": [
    "predictions = model.predict(X_test)"
   ]
  },
  {
   "cell_type": "code",
   "execution_count": 46,
   "id": "31d6147f",
   "metadata": {},
   "outputs": [
    {
     "data": {
      "text/plain": [
       "1826.5745713834656"
      ]
     },
     "execution_count": 46,
     "metadata": {},
     "output_type": "execute_result"
    }
   ],
   "source": [
    "mean_absolute_error(y_test,predictions)"
   ]
  },
  {
   "cell_type": "code",
   "execution_count": 47,
   "id": "57c798b9",
   "metadata": {},
   "outputs": [
    {
     "data": {
      "text/plain": [
       "3694.4577331080095"
      ]
     },
     "execution_count": 47,
     "metadata": {},
     "output_type": "execute_result"
    }
   ],
   "source": [
    "np.sqrt(mean_squared_error(y_test,predictions))"
   ]
  },
  {
   "cell_type": "code",
   "execution_count": 48,
   "id": "3168f2dc",
   "metadata": {},
   "outputs": [
    {
     "data": {
      "text/plain": [
       "0.7802218328666628"
      ]
     },
     "execution_count": 48,
     "metadata": {},
     "output_type": "execute_result"
    }
   ],
   "source": [
    "explained_variance_score(y_test,predictions)"
   ]
  },
  {
   "cell_type": "code",
   "execution_count": 49,
   "id": "0ce81018",
   "metadata": {},
   "outputs": [
    {
     "data": {
      "text/plain": [
       "[<matplotlib.lines.Line2D at 0x1833431e760>]"
      ]
     },
     "execution_count": 49,
     "metadata": {},
     "output_type": "execute_result"
    },
    {
     "data": {
      "image/png": "[encoded data removed]",
      "text/plain": [
       "<Figure size 432x288 with 1 Axes>"
      ]
     },
     "metadata": {
      "needs_background": "light"
     },
     "output_type": "display_data"
    }
   ],
   "source": [
    "# Our predictions\n",
    "plt.scatter(y_test,predictions)\n",
    "\n",
    "# Perfect predictions\n",
    "plt.plot(y_test,y_test,'r')"
   ]
  },
  {
   "cell_type": "code",
   "execution_count": 50,
   "id": "2d1a925d",
   "metadata": {},
   "outputs": [
    {
     "data": {
      "text/plain": [
       "(13223,)"
      ]
     },
     "execution_count": 50,
     "metadata": {},
     "output_type": "execute_result"
    }
   ],
   "source": [
    "y_test.shape"
   ]
  },
  {
   "cell_type": "code",
   "execution_count": 51,
   "id": "1d8e7cf6",
   "metadata": {},
   "outputs": [],
   "source": [
    "errors = y_test.values.reshape(13223, 1) - predictions"
   ]
  },
  {
   "cell_type": "code",
   "execution_count": 52,
   "id": "0dbbca44",
   "metadata": {},
   "outputs": [
    {
     "data": {
      "text/plain": [
       "<AxesSubplot:ylabel='Density'>"
      ]
     },
     "execution_count": 52,
     "metadata": {},
     "output_type": "execute_result"
    },
    {
     "data": {
      "image/png": "[encoded data removed]",
      "text/plain": [
       "<Figure size 432x288 with 1 Axes>"
      ]
     },
     "metadata": {
      "needs_background": "light"
     },
     "output_type": "display_data"
    }
   ],
   "source": [
    "sns.distplot(errors)"
   ]
  },
  {
   "cell_type": "code",
   "execution_count": null,
   "id": "4c829bb0",
   "metadata": {},
   "outputs": [],
   "source": []
  }
 ],
 "metadata": {
  "kernelspec": {
   "display_name": "Python 3 (ipykernel)",
   "language": "python",
   "name": "python3"
  },
  "language_info": {
   "codemirror_mode": {
    "name": "ipython",
    "version": 3
   },
   "file_extension": ".py",
   "mimetype": "text/x-python",
   "name": "python",
   "nbconvert_exporter": "python",
   "pygments_lexer": "ipython3",
   "version": "3.9.7"
  },
  "toc": {
   "base_numbering": 1,
   "nav_menu": {},
   "number_sections": true,
   "sideBar": true,
   "skip_h1_title": false,
   "title_cell": "Table of Contents",
   "title_sidebar": "Contents",
   "toc_cell": false,
   "toc_position": {
    "height": "calc(100% - 180px)",
    "left": "10px",
    "top": "150px",
    "width": "303.542px"
   },
   "toc_section_display": true,
   "toc_window_display": true
  }
 },
 "nbformat": 4,
 "nbformat_minor": 5
}
